{
 "cells": [
  {
   "cell_type": "markdown",
   "metadata": {},
   "source": [
    "---\n",
    "title: \"Data Types and Type Conversion\"\n",
    "teaching: 10\n",
    "exercises: 10\n",
    "questions:\n",
    "- \"What kinds of data do programs store?\"\n",
    "- \"How can I convert one type to another?\"\n",
    "objectives:\n",
    "- \"Explain key differences between integers and floating point numbers.\"\n",
    "- \"Explain key differences between numbers and character strings.\"\n",
    "- \"Use built-in functions to convert between integers, floating point numbers, and strings.\"\n",
    "keypoints:\n",
    "- \"Every value has a type.\"\n",
    "- \"Use the built-in function `type` to find the type of a value.\"\n",
    "- \"Types control what operations can be done on values.\"\n",
    "- \"Strings can be added and multiplied.\"\n",
    "- \"Strings have a length (but numbers don't).\"\n",
    "- \"Must convert numbers to strings or vice versa when operating on them.\"\n",
    "- \"Can mix integers and floats freely in operations.\"\n",
    "- \"Variables only change value when something is assigned to them.\"\n",
    "---\n",
    "## Every value has a type.\n",
    "\n",
    "*   Every value in a program has a specific type.\n",
    "*   Integer (`int`): represents positive or negative whole numbers like 3 or -512.\n",
    "*   Floating point number (`float`): represents real numbers like 3.14159 or -2.5.\n",
    "*   Character string (usually called \"string\", `str`): text.\n",
    "    *   Written in either single quotes or double quotes (as long as they match).\n",
    "    *   The quote marks aren't printed when the string is displayed.\n",
    "\n",
    "## Use the built-in function `type` to find the type of a value.\n",
    "\n",
    "*   Use the built-in function `type` to find out what type a value has.\n",
    "*   Works on variables as well.\n",
    "    *   But remember: the *value* has the type --- the *variable* is just a label."
   ]
  },
  {
   "cell_type": "code",
   "execution_count": null,
   "metadata": {},
   "outputs": [],
   "source": [
    "print(type(52))"
   ]
  },
  {
   "cell_type": "markdown",
   "metadata": {},
   "source": [
    "{: .language-python}"
   ]
  },
  {
   "cell_type": "code",
   "execution_count": null,
   "metadata": {},
   "outputs": [],
   "source": [
    "<class 'int'>"
   ]
  },
  {
   "cell_type": "markdown",
   "metadata": {},
   "source": [
    "{: .output}"
   ]
  },
  {
   "cell_type": "code",
   "execution_count": null,
   "metadata": {},
   "outputs": [],
   "source": [
    "fitness = 'average'\n",
    "print(type(fitness))"
   ]
  },
  {
   "cell_type": "markdown",
   "metadata": {},
   "source": [
    "{: .language-python}"
   ]
  },
  {
   "cell_type": "code",
   "execution_count": null,
   "metadata": {},
   "outputs": [],
   "source": [
    "<class 'str'>"
   ]
  },
  {
   "cell_type": "markdown",
   "metadata": {},
   "source": [
    "{: .output}\n",
    "\n",
    "## Types control what operations (or methods) can be performed on a given value.\n",
    "\n",
    "*   A value's type determines what the program can do to it."
   ]
  },
  {
   "cell_type": "code",
   "execution_count": null,
   "metadata": {},
   "outputs": [],
   "source": [
    "print(5 - 3)"
   ]
  },
  {
   "cell_type": "markdown",
   "metadata": {},
   "source": [
    "{: .language-python}"
   ]
  },
  {
   "cell_type": "code",
   "execution_count": null,
   "metadata": {},
   "outputs": [],
   "source": [
    "2"
   ]
  },
  {
   "cell_type": "markdown",
   "metadata": {},
   "source": [
    "{: .output}"
   ]
  },
  {
   "cell_type": "code",
   "execution_count": null,
   "metadata": {},
   "outputs": [],
   "source": [
    "print('hello' - 'h')"
   ]
  },
  {
   "cell_type": "markdown",
   "metadata": {},
   "source": [
    "{: .language-python}"
   ]
  },
  {
   "cell_type": "code",
   "execution_count": null,
   "metadata": {},
   "outputs": [],
   "source": [
    "---------------------------------------------------------------------------\n",
    "TypeError                                 Traceback (most recent call last)\n",
    "<ipython-input-2-67f5626a1e07> in <module>()\n",
    "----> 1 print('hello' - 'h')\n",
    "\n",
    "TypeError: unsupported operand type(s) for -: 'str' and 'str'"
   ]
  },
  {
   "cell_type": "markdown",
   "metadata": {},
   "source": [
    "{: .error}\n",
    "\n",
    "## You can use the \"+\" and \"*\" operators on strings.\n",
    "\n",
    "*   \"Adding\" character strings concatenates them."
   ]
  },
  {
   "cell_type": "code",
   "execution_count": null,
   "metadata": {},
   "outputs": [],
   "source": [
    "full_name = 'Ahmed' + ' ' + 'Walsh'\n",
    "print(full_name)"
   ]
  },
  {
   "cell_type": "markdown",
   "metadata": {},
   "source": [
    "{: .language-python}"
   ]
  },
  {
   "cell_type": "code",
   "execution_count": null,
   "metadata": {},
   "outputs": [],
   "source": [
    "Ahmed Walsh"
   ]
  },
  {
   "cell_type": "markdown",
   "metadata": {},
   "source": [
    "{: .output}\n",
    "\n",
    "*   Multiplying a character string by an integer _N_ creates a new string that consists of that character string repeated  _N_ times.\n",
    "    *   Since multiplication is repeated addition."
   ]
  },
  {
   "cell_type": "code",
   "execution_count": null,
   "metadata": {},
   "outputs": [],
   "source": [
    "separator = '=' * 10\n",
    "print(separator)"
   ]
  },
  {
   "cell_type": "markdown",
   "metadata": {},
   "source": [
    "{: .language-python}"
   ]
  },
  {
   "cell_type": "code",
   "execution_count": null,
   "metadata": {},
   "outputs": [],
   "source": [
    "=========="
   ]
  },
  {
   "cell_type": "markdown",
   "metadata": {},
   "source": [
    "{: .output}\n",
    "\n",
    "## Strings have a length (but numbers don't).\n",
    "\n",
    "*   The built-in function `len` counts the number of characters in a string."
   ]
  },
  {
   "cell_type": "code",
   "execution_count": null,
   "metadata": {},
   "outputs": [],
   "source": [
    "print(len(full_name))"
   ]
  },
  {
   "cell_type": "markdown",
   "metadata": {},
   "source": [
    "{: .language-python}"
   ]
  },
  {
   "cell_type": "code",
   "execution_count": null,
   "metadata": {},
   "outputs": [],
   "source": [
    "11"
   ]
  },
  {
   "cell_type": "markdown",
   "metadata": {},
   "source": [
    "{: .output}\n",
    "\n",
    "*   But numbers don't have a length (not even zero)."
   ]
  },
  {
   "cell_type": "code",
   "execution_count": null,
   "metadata": {},
   "outputs": [],
   "source": [
    "print(len(52))"
   ]
  },
  {
   "cell_type": "markdown",
   "metadata": {},
   "source": [
    "{: .language-python}"
   ]
  },
  {
   "cell_type": "code",
   "execution_count": null,
   "metadata": {},
   "outputs": [],
   "source": [
    "---------------------------------------------------------------------------\n",
    "TypeError                                 Traceback (most recent call last)\n",
    "<ipython-input-3-f769e8e8097d> in <module>()\n",
    "----> 1 print(len(52))\n",
    "\n",
    "TypeError: object of type 'int' has no len()"
   ]
  },
  {
   "cell_type": "markdown",
   "metadata": {},
   "source": [
    "{: .error}\n",
    "\n",
    "## <a name='convert-numbers-and-strings'></a> Must convert numbers to strings or vice versa when operating on them.\n",
    "\n",
    "*   Cannot add numbers and strings."
   ]
  },
  {
   "cell_type": "code",
   "execution_count": null,
   "metadata": {},
   "outputs": [],
   "source": [
    "print(1 + '2')"
   ]
  },
  {
   "cell_type": "markdown",
   "metadata": {},
   "source": [
    "{: .language-python}"
   ]
  },
  {
   "cell_type": "code",
   "execution_count": null,
   "metadata": {},
   "outputs": [],
   "source": [
    "---------------------------------------------------------------------------\n",
    "TypeError                                 Traceback (most recent call last)\n",
    "<ipython-input-4-fe4f54a023c6> in <module>()\n",
    "----> 1 print(1 + '2')\n",
    "\n",
    "TypeError: unsupported operand type(s) for +: 'int' and 'str'"
   ]
  },
  {
   "cell_type": "markdown",
   "metadata": {},
   "source": [
    "{: .error}\n",
    "\n",
    "*   Not allowed because it's ambiguous: should `1 + '2'` be `3` or `'12'`?\n",
    "*   Some types can be converted to other types by using the type name as a function."
   ]
  },
  {
   "cell_type": "code",
   "execution_count": null,
   "metadata": {},
   "outputs": [],
   "source": [
    "print(1 + int('2'))\n",
    "print(str(1) + '2')"
   ]
  },
  {
   "cell_type": "markdown",
   "metadata": {},
   "source": [
    "{: .language-python}"
   ]
  },
  {
   "cell_type": "code",
   "execution_count": null,
   "metadata": {},
   "outputs": [],
   "source": [
    "3\n",
    "12"
   ]
  },
  {
   "cell_type": "markdown",
   "metadata": {},
   "source": [
    "{: .output}\n",
    "\n",
    "## Can mix integers and floats freely in operations.\n",
    "\n",
    "*   Integers and floating-point numbers can be mixed in arithmetic.\n",
    "    *   Python 3 automatically converts integers to floats as needed. (Integer division in Python 2 will return an integer, the *floor* of the division.)"
   ]
  },
  {
   "cell_type": "code",
   "execution_count": null,
   "metadata": {},
   "outputs": [],
   "source": [
    "print('half is', 1 / 2.0)\n",
    "print('three squared is', 3.0 ** 2)"
   ]
  },
  {
   "cell_type": "markdown",
   "metadata": {},
   "source": [
    "{: .language-python}"
   ]
  },
  {
   "cell_type": "code",
   "execution_count": null,
   "metadata": {},
   "outputs": [],
   "source": [
    "half is 0.5\n",
    "three squared is 9.0"
   ]
  },
  {
   "cell_type": "markdown",
   "metadata": {},
   "source": [
    "{: .output}\n",
    "\n",
    "## Variables only change value when something is assigned to them.\n",
    "\n",
    "*   If we make one cell in a spreadsheet depend on another,\n",
    "    and update the latter,\n",
    "    the former updates automatically.\n",
    "*   This does **not** happen in programming languages."
   ]
  },
  {
   "cell_type": "code",
   "execution_count": null,
   "metadata": {},
   "outputs": [],
   "source": [
    "first = 1\n",
    "second = 5 * first\n",
    "first = 2\n",
    "print('first is', first, 'and second is', second)"
   ]
  },
  {
   "cell_type": "markdown",
   "metadata": {},
   "source": [
    "{: .language-python}"
   ]
  },
  {
   "cell_type": "code",
   "execution_count": null,
   "metadata": {},
   "outputs": [],
   "source": [
    "first is 2 and second is 5"
   ]
  },
  {
   "cell_type": "markdown",
   "metadata": {},
   "source": [
    "{: .output}\n",
    "\n",
    "*   The computer reads the value of `first` when doing the multiplication,\n",
    "    creates a new value, and assigns it to `second`.\n",
    "*   After that, `second` does not remember where it came from.\n",
    "\n",
    "> ## Fractions\n",
    ">\n",
    "> What type of value is 3.4?\n",
    "> How can you find out?\n",
    ">\n",
    "> > ## Solution\n",
    "> >\n",
    "> > It is a floating-point number (often abbreviated \"float\").\n",
    "> >\n",
    "> > ~~~\n",
    "> > print(type(3.4))\n",
    "> > ~~~\n",
    "> > {: .language-python}\n",
    "> > ~~~\n",
    "> > <class 'float'>\n",
    "> > ~~~\n",
    "> > {: .output}\n",
    "> {: .solution}\n",
    "{: .challenge}\n",
    "\n",
    "> ## Automatic Type Conversion\n",
    ">\n",
    "> What type of value is 3.25 + 4?\n",
    ">\n",
    "> > ## Solution\n",
    "> >\n",
    "> > It is a float:\n",
    "> > integers are automatically converted to floats as necessary.\n",
    "> >\n",
    "> > ~~~\n",
    "> > result = 3.25 + 4\n",
    "> > print(result, 'is', type(result))\n",
    "> > ~~~\n",
    "> > {: .language-python}\n",
    "> > ~~~\n",
    "> > 7.25 is <class 'float'>\n",
    "> > ~~~\n",
    "> > {: .output}\n",
    "> {: .solution}\n",
    "{: .challenge}\n",
    "\n",
    "> ## Choose a Type\n",
    ">\n",
    "> What type of value (integer, floating point number, or character string)\n",
    "> would you use to represent each of the following?  Try to come up with more than one good answer for each problem.  For example, in  # 1, when would counting days with a floating point variable make more sense than using an integer?  \n",
    ">\n",
    "> 1. Number of days since the start of the year.\n",
    "> 2. Time elapsed from the start of the year until now in days.\n",
    "> 3. Serial number of a piece of lab equipment.\n",
    "> 4. A lab specimen's age\n",
    "> 5. Current population of a city.\n",
    "> 6. Average population of a city over time.\n",
    ">\n",
    "> > ## Solution\n",
    "> >\n",
    "> > The answers to the questions are:\n",
    "> > 1. Integer, since the number of days would lie between 1 and 365. \n",
    "> > 2. Floating point, since fractional days are required\n",
    "> > 3. Character string if serial number contains letters and numbers, otherwise integer if the serial number consists only of numerals\n",
    "> > 4. This will vary! How do you define a specimen's age? whole days since collection (integer)? date and time (string)?\n",
    "> > 5. Choose floating point to represent population as large aggregates (eg millions), or integer to represent population in units of individuals.\n",
    "> > 6. Floating point number, since an average is likely to have a fractional part.\n",
    "> >\n",
    "> > {: .output}\n",
    "> {: .solution}\n",
    "{: .challenge}\n",
    "\n",
    "> ## Division Types\n",
    ">\n",
    "> In Python 3, the `//` operator performs integer (whole-number) floor division, the `/` operator performs floating-point\n",
    "> division, and the '%' (or *modulo*) operator calculates and returns the remainder from integer division:\n",
    ">\n",
    "> ~~~\n",
    "> print('5 // 3:', 5//3)\n",
    "> print('5 / 3:', 5/3)\n",
    "> print('5 % 3:', 5%3)\n",
    "> ~~~\n",
    "> {: .language-python}\n",
    ">\n",
    "> ~~~\n",
    "> 5 // 3: 1\n",
    "> 5 / 3: 1.6666666666666667\n",
    "> 5 % 3: 2\n",
    "> ~~~\n",
    "> {: .output}\n",
    ">\n",
    "> However in Python2 (and other languages), the `/` operator between two integer types perform a floor (`//`) division. To perform a float division, we have to convert one of the integers to float.\n",
    ">\n",
    "> ~~~\n",
    "> print('5 // 3:', 1)\n",
    "> print('5 / 3:', 1 )\n",
    "> print('5 / float(3):', 1.6666667 )\n",
    "> print('float(5) / 3:', 1.6666667 )\n",
    "> print('float(5 / 3):', 1.0 )\n",
    "> print('5 % 3:', 2)\n",
    "> ~~~\n",
    ">\n",
    "> If `num_subjects` is the number of subjects taking part in a study,\n",
    "> and `num_per_survey` is the number that can take part in a single survey,\n",
    "> write an expression that calculates the number of surveys needed\n",
    "> to reach everyone once.\n",
    ">\n",
    "> > ## Solution\n",
    "> > We want the minimum number of surveys that reaches everyone once, which is\n",
    "> > the rounded up value of `num_subjects / num_per_survey`. This is \n",
    "> > equivalent to performing an integer division with `//` and adding 1.\n",
    "> > ~~~\n",
    "> > num_subjects = 600\n",
    "> > num_per_survey = 42\n",
    "> > num_surveys = num_subjects // num_per_survey + 1\n",
    "> >\n",
    "> > print(num_subjects, 'subjects,', num_per_survey, 'per survey:', num_surveys)\n",
    "> > ~~~\n",
    "> > {: .language-python}\n",
    "> > ~~~\n",
    "> > 600 subjects, 42 per survey: 15\n",
    "> > ~~~\n",
    "> > {: .output}\n",
    "> {: .solution}\n",
    "{: .challenge}\n",
    "\n",
    "> ## Strings to Numbers\n",
    ">\n",
    "> Where reasonable, `float()` will convert a string to a floating point number,\n",
    "> and `int()` will convert a floating point number to an integer:\n",
    ">\n",
    "> ~~~\n",
    "> print(\"string to float:\", float(\"3.4\"))\n",
    "> print(\"float to int:\", int(3.4))\n",
    "> ~~~\n",
    "> {: .language-python}\n",
    ">\n",
    "> ~~~\n",
    "> string to float: 3.4\n",
    "> float to int: 3\n",
    "> ~~~\n",
    "> {: .output}\n",
    ">\n",
    "> If the conversion doesn't make sense, however, an error message will occur\n",
    ">\n",
    "> ~~~\n",
    "> print(\"string to float:\", float(\"Hello world!\"))\n",
    "> ~~~\n",
    "> {: .language-python}\n",
    ">\n",
    "> ~~~\n",
    "> ---------------------------------------------------------------------------\n",
    "> ValueError                                Traceback (most recent call last)\n",
    "> <ipython-input-5-df3b790bf0a2> in <module>()\n",
    "> ----> 1 print(\"string to float:\", float(\"Hello world!\"))\n",
    ">\n",
    "> ValueError: could not convert string to float: 'Hello world!'\n",
    "> ~~~\n",
    "> {: .error}\n",
    ">\n",
    "> Given this information, what do you expect the following program to do?\n",
    ">\n",
    "> What does it actually do?\n",
    ">\n",
    "> Why do you think it does that?\n",
    ">\n",
    "> ~~~\n",
    "> print(\"fractional string to int:\", int(\"3.4\"))\n",
    "> ~~~\n",
    "> {: .language-python}\n",
    "> \n",
    "> > ## Solution\n",
    "> > What do you expect this program to do? It would not be so unreasonable to expect the Python 3 `int` command to\n",
    "> > convert the string \"3.4\" to 3.4 and an additional type conversion to 3. After all, Python 3 performs a lot of other\n",
    "> > magic - isn't that part of its charm?\n",
    "> > \n",
    "> > However, Python 3 throws an error. Why? To be consistent, possibly. If you ask Python to perform two consecutive\n",
    "> > typecasts, you must convert it explicitly in code.\n",
    "> >\n",
    "> > ~~~\n",
    "> > int(\"3.4\")\n",
    "> > int(float(\"3.4\"))\n",
    "> > ~~~\n",
    "> > {: .language-python}\n",
    "> > ~~~\n",
    "> > In [2]: int(\"3.4\")\n",
    "> > ---------------------------------------------------------------------------\n",
    "> > ValueError                                Traceback (most recent call last)\n",
    "> > <ipython-input-2-ec6729dfccdc> in <module>()\n",
    "> > ----> 1 int(\"3.4\")\n",
    "> > ValueError: invalid literal for int() with base 10: '3.4'\n",
    "> > 3\n",
    "> > ~~~\n",
    "> > {: .output}\n",
    "> {: .solution}\n",
    "{: .challenge}\n",
    "\n",
    "> ## Arithmetic with Different Types\n",
    ">\n",
    "> Which of the following will return the floating point number `2.0`?\n",
    "> Note: there may be more than one right answer.\n",
    ">\n",
    "> ~~~\n",
    "> first = 1.0\n",
    "> second = \"1\"\n",
    "> third = \"1.1\"\n",
    "> ~~~\n",
    "> {: .language-python}\n",
    ">\n",
    "> 1. `first + float(second)`\n",
    "> 2. `float(second) + float(third)`\n",
    "> 3. `first + int(third)`\n",
    "> 4. `first + int(float(third))`\n",
    "> 5. `int(first) + int(float(third))`\n",
    "> 6. `2.0 * second`\n",
    ">\n",
    "> > ## Solution\n",
    "> >\n",
    "> > Answer: 1 and 4\n",
    "> {: .solution}\n",
    "{: .challenge}\n",
    "\n",
    "> ## Complex Numbers\n",
    ">\n",
    "> Python provides complex numbers,\n",
    "> which are written as `1.0+2.0j`.\n",
    "> If `val` is an imaginary number,\n",
    "> its real and imaginary parts can be accessed using *dot notation*\n",
    "> as `val.real` and `val.imag`.\n",
    ">\n",
    "> ~~~\n",
    "> complex = 6 + 2j\n",
    "> print(complex.real)\n",
    "> print(complex.imag)\n",
    "> ~~~\n",
    "> {: .language-python}\n",
    ">\n",
    "> ~~~\n",
    "> 6.0\n",
    "> 2.0\n",
    "> ~~~\n",
    "> {: .output}\n",
    ">\n",
    ">\n",
    "> 1.  Why do you think Python uses `j` instead of `i` for the imaginary part?\n",
    "> 2.  What do you expect `1+2j + 3` to produce?\n",
    "> 3.  What do you expect `4j` to be?  What about `4 j` or `4 + j`?\n",
    "> \n",
    "> > ## Solution\n",
    "> >\n",
    "> > 1. Standard mathematics treatments typically use `i` to denote an imaginary number. However, from media reports it\n",
    "> > was an early convention established from electrical engineering that now presents a technically expensive area to\n",
    "> > change. [Stack Overflow provides additional explanation and\n",
    "> > discussion.](http://stackoverflow.com/questions/24812444/why-are-complex-numbers-in-python-denoted-with-j-instead-of-i)\n",
    "> > 2. `(4+2j)`\n",
    "> > 3. `4j`, `Syntax Error: invalid syntax`, in this case _j_ is considered a variable and this depends on if _j_ is defined and if so, its assigned value\n",
    "> {: .solution}\n",
    "{: .challenge}"
   ]
  }
 ],
 "metadata": {
  "kernelspec": {
   "display_name": "Python 3",
   "language": "python",
   "name": "python3"
  },
  "language_info": {
   "codemirror_mode": {
    "name": "ipython",
    "version": 3
   },
   "file_extension": ".py",
   "mimetype": "text/x-python",
   "name": "python",
   "nbconvert_exporter": "python",
   "pygments_lexer": "ipython3",
   "version": "3.7.4"
  }
 },
 "nbformat": 4,
 "nbformat_minor": 4
}
