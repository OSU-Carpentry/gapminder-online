{
 "cells": [
  {
   "cell_type": "markdown",
   "metadata": {},
   "source": [
    "---\n",
    "title: \"Variables and Assignment\"\n",
    "teaching: 10\n",
    "exercises: 10\n",
    "questions:\n",
    "- \"How can I store data in programs?\"\n",
    "objectives:\n",
    "- \"Write programs that assign scalar values to variables and perform calculations with those values.\"\n",
    "- \"Correctly trace value changes in programs that use scalar assignment.\"\n",
    "keypoints:\n",
    "- \"Use variables to store values.\"\n",
    "- \"Use `print` to display values.\"\n",
    "- \"Variables persist between cells.\"\n",
    "- \"Variables must be created before they are used.\"\n",
    "- \"Variables can be used in calculations.\"\n",
    "- \"Use an index to get a single character from a string.\"\n",
    "- \"Use a slice to get a substring.\"\n",
    "- \"Use the built-in function `len` to find the length of a string.\"\n",
    "- \"Python is case-sensitive.\"\n",
    "- \"Use meaningful variable names.\"\n",
    "---\n",
    "## Use variables to store values.\n",
    "\n",
    "*   **Variables** are names for values.\n",
    "*   In Python the `=` symbol assigns the value on the right to the name on the left.\n",
    "*   The variable is created when a value is assigned to it.\n",
    "*   Here, Python assigns an age to a variable `age`\n",
    "    and a name in quotes to a variable `first_name`."
   ]
  },
  {
   "cell_type": "code",
   "execution_count": null,
   "metadata": {},
   "outputs": [],
   "source": [
    "age = 42\n",
    "first_name = 'Ahmed'"
   ]
  },
  {
   "cell_type": "markdown",
   "metadata": {},
   "source": [
    "{: .language-python}\n",
    "\n",
    "*   Variable names\n",
    "    * can **only** contain letters, digits, and underscore `_` (typically used to separate words in long variable names)\n",
    "    * cannot start with a digit\n",
    "    * are **case sensitive** (age, Age and AGE are three different variables)\n",
    "*   Variable names that start with underscores like `__alistairs_real_age` have a special meaning\n",
    "    so we won't do that until we understand the convention.\n",
    "\n",
    "## Use `print` to display values.\n",
    "\n",
    "*   Python has a built-in function called `print` that prints things as text.\n",
    "*   Call the function (i.e., tell Python to run it) by using its name.\n",
    "*   Provide values to the function (i.e., the things to print) in parentheses.\n",
    "*   To add a string to the printout, wrap the string in single or double quotes.\n",
    "*   The values passed to the function are called **arguments**"
   ]
  },
  {
   "cell_type": "code",
   "execution_count": null,
   "metadata": {},
   "outputs": [],
   "source": [
    "print(first_name, 'is', age, 'years old')"
   ]
  },
  {
   "cell_type": "markdown",
   "metadata": {},
   "source": [
    "{: .language-python}"
   ]
  },
  {
   "cell_type": "code",
   "execution_count": null,
   "metadata": {},
   "outputs": [],
   "source": [
    "Ahmed is 42 years old"
   ]
  },
  {
   "cell_type": "markdown",
   "metadata": {},
   "source": [
    "{: .output}\n",
    "\n",
    "*   `print` automatically puts a single space between items to separate them.\n",
    "*   And wraps around to a new line at the end.\n",
    "\n",
    "## Variables must be created before they are used.\n",
    "\n",
    "*   If a variable doesn't exist yet, or if the name has been mis-spelled,\n",
    "    Python reports an error. (Unlike some languages, which \"guess\" a default value.)"
   ]
  },
  {
   "cell_type": "code",
   "execution_count": null,
   "metadata": {},
   "outputs": [],
   "source": [
    "print(last_name)"
   ]
  },
  {
   "cell_type": "markdown",
   "metadata": {},
   "source": [
    "{: .language-python}"
   ]
  },
  {
   "cell_type": "code",
   "execution_count": null,
   "metadata": {},
   "outputs": [],
   "source": [
    "---------------------------------------------------------------------------\n",
    "NameError                                 Traceback (most recent call last)\n",
    "<ipython-input-1-c1fbb4e96102> in <module>()\n",
    "----> 1 print(last_name)\n",
    "\n",
    "NameError: name 'last_name' is not defined"
   ]
  },
  {
   "cell_type": "markdown",
   "metadata": {},
   "source": [
    "{: .error}\n",
    "\n",
    "*   The last line of an error message is usually the most informative.\n",
    "*   We will look at error messages in detail [later]({{ page.root }}/15-scope/#reading-error-messages).\n",
    "\n",
    "> ## Variables Persist Between Cells\n",
    ">\n",
    "> Be aware that it is the *order* of execution of cells that is important in a Jupyter notebook, not the order\n",
    "> in which they appear. Python will remember *all* the code that was run previously, including any variables you have\n",
    "> defined, irrespective of the order in the notebook. Therefore if you define variables lower down the notebook and then\n",
    "> (re)run cells further up, those defined further down will still be present. As an example, create two cells with the\n",
    "> following content, in this order:\n",
    ">\n",
    "> ~~~\n",
    "> print(myval)\n",
    "> ~~~\n",
    "> {: .language-python}\n",
    ">\n",
    "> ~~~\n",
    "> myval = 1\n",
    "> ~~~\n",
    "> {: .language-python}\n",
    ">\n",
    "> If you execute this in order, the first cell will give an error. However, if you run the first cell *after* the second\n",
    "> cell it will print out `1`. To prevent confusion, it can be helpful to use the `Kernel` -> `Restart & Run All` option which\n",
    "> clears the interpreter and runs everything from a clean slate going top to bottom.\n",
    "{: .callout}\n",
    "\n",
    "## Variables can be used in calculations.\n",
    "\n",
    "*   We can use variables in calculations just as if they were values.\n",
    "    *   Remember, we assigned the value `42` to `age` a few lines ago."
   ]
  },
  {
   "cell_type": "code",
   "execution_count": null,
   "metadata": {},
   "outputs": [],
   "source": [
    "age = age + 3\n",
    "print('Age in three years:', age)"
   ]
  },
  {
   "cell_type": "markdown",
   "metadata": {},
   "source": [
    "{: .language-python}"
   ]
  },
  {
   "cell_type": "code",
   "execution_count": null,
   "metadata": {},
   "outputs": [],
   "source": [
    "Age in three years: 45"
   ]
  },
  {
   "cell_type": "markdown",
   "metadata": {},
   "source": [
    "{: .output}\n",
    "\n",
    "## Use an index to get a single character from a string.\n",
    "\n",
    "*   The characters (individual letters, numbers, and so on) in a string are\n",
    "    ordered. For example, the string `'AB'` is not the same as `'BA'`. Because of\n",
    "    this ordering, we can treat the string as a list of characters.\n",
    "*   Each position in the string (first, second, etc.) is given a number. This\n",
    "    number is called an **index** or sometimes a subscript.\n",
    "*   Indices are numbered from 0.\n",
    "*   Use the position's index in square brackets to get the character at that\n",
    "    position.\n",
    "    \n",
    "![an illustration of indexing](../fig/2_indexing.svg)"
   ]
  },
  {
   "cell_type": "code",
   "execution_count": null,
   "metadata": {},
   "outputs": [],
   "source": [
    "atom_name = 'helium'\n",
    "print(atom_name[0])"
   ]
  },
  {
   "cell_type": "markdown",
   "metadata": {},
   "source": [
    "{: .language-python}"
   ]
  },
  {
   "cell_type": "code",
   "execution_count": null,
   "metadata": {},
   "outputs": [],
   "source": [
    "h"
   ]
  },
  {
   "cell_type": "markdown",
   "metadata": {},
   "source": [
    "{: .output}\n",
    "\n",
    "## Use a slice to get a substring.\n",
    "\n",
    "*   A part of a string is called a **substring**. A substring can be as short as a\n",
    "    single character.\n",
    "*   An item in a list is called an element. Whenever we treat a string as if it\n",
    "    were a list, the string's elements are its individual characters.\n",
    "*   A slice is a part of a string (or, more generally, any list-like thing).\n",
    "*   We take a slice by using `[start:stop]`, where `start` is replaced with the\n",
    "    index of the first element we want and `stop` is replaced with the index of\n",
    "    the element just after the last element we want.\n",
    "*   Mathematically, you might say that a slice selects `[start:stop)`.\n",
    "*   The difference between `stop` and `start` is the slice's length.\n",
    "*   Taking a slice does not change the contents of the original string. Instead,\n",
    "    the slice is a copy of part of the original string."
   ]
  },
  {
   "cell_type": "code",
   "execution_count": null,
   "metadata": {},
   "outputs": [],
   "source": [
    "atom_name = 'sodium'\n",
    "print(atom_name[0:3])"
   ]
  },
  {
   "cell_type": "markdown",
   "metadata": {},
   "source": [
    "{: .language-python}"
   ]
  },
  {
   "cell_type": "code",
   "execution_count": null,
   "metadata": {},
   "outputs": [],
   "source": [
    "sod"
   ]
  },
  {
   "cell_type": "markdown",
   "metadata": {},
   "source": [
    "{: .output}\n",
    "\n",
    "## Use the built-in function `len` to find the length of a string."
   ]
  },
  {
   "cell_type": "code",
   "execution_count": null,
   "metadata": {},
   "outputs": [],
   "source": [
    "print(len('helium'))"
   ]
  },
  {
   "cell_type": "markdown",
   "metadata": {},
   "source": [
    "{: .language-python}"
   ]
  },
  {
   "cell_type": "code",
   "execution_count": null,
   "metadata": {},
   "outputs": [],
   "source": [
    "6"
   ]
  },
  {
   "cell_type": "markdown",
   "metadata": {},
   "source": [
    "{: .output}\n",
    "\n",
    "*   Nested functions are evaluated from the inside out,\n",
    "     like in mathematics.\n",
    "\n",
    "## Python is case-sensitive.\n",
    "\n",
    "*   Python thinks that upper- and lower-case letters are different,\n",
    "    so `Name` and `name` are different variables.\n",
    "*   There are conventions for using upper-case letters at the start of variable names so we will use lower-case letters for now.\n",
    "\n",
    "## Use meaningful variable names.\n",
    "\n",
    "*   Python doesn't care what you call variables as long as they obey the rules\n",
    "    (alphanumeric characters and the underscore)."
   ]
  },
  {
   "cell_type": "code",
   "execution_count": null,
   "metadata": {},
   "outputs": [],
   "source": [
    "flabadab = 42\n",
    "ewr_422_yY = 'Ahmed'\n",
    "print(ewr_422_yY, 'is', flabadab, 'years old')"
   ]
  },
  {
   "cell_type": "markdown",
   "metadata": {},
   "source": [
    "{: .language-python}\n",
    "\n",
    "*   Use meaningful variable names to help other people understand what the program does.\n",
    "*   The most important \"other person\" is your future self.\n",
    "\n",
    "> ## Swapping Values\n",
    ">\n",
    "> Fill the table showing the values of the variables in this program\n",
    "> *after* each statement is executed.\n",
    ">\n",
    "> ~~~\n",
    "> # Command  # Value of x   # Value of y   # Value of swap #\n",
    "> x = 1.0    #              #              #               #\n",
    "> y = 3.0    #              #              #               #\n",
    "> swap = x   #              #              #               #\n",
    "> x = y      #              #              #               #\n",
    "> y = swap   #              #              #               #\n",
    "> ~~~\n",
    "> {: .language-python}\n",
    "> > ## Solution\n",
    "> >\n",
    "> > ~~~\n",
    "> > # Command  # Value of x   # Value of y   # Value of swap #\n",
    "> > x = 1.0    # 1.0          # not defined  # not defined   #\n",
    "> > y = 3.0    # 1.0          # 3.0          # not defined   #\n",
    "> > swap = x   # 1.0          # 3.0          # 1.0           #\n",
    "> > x = y      # 3.0          # 3.0          # 1.0           #\n",
    "> > y = swap   # 3.0          # 1.0          # 1.0           #\n",
    "> > ~~~\n",
    "> > {: .output}\n",
    "> > \n",
    "> > These three lines exchange the values in `x` and `y` using the `swap`\n",
    "> > variable for temporary storage. This is a fairly common programming idiom.\n",
    ">{: .solution}\n",
    "{: .challenge}\n",
    "\n",
    "> ## Predicting Values\n",
    ">\n",
    "> What is the final value of `position` in the program below?\n",
    "> (Try to predict the value without running the program,\n",
    "> then check your prediction.)\n",
    ">\n",
    "> ~~~\n",
    "> initial = 'left'\n",
    "> position = initial\n",
    "> initial = 'right'\n",
    "> ~~~\n",
    "> {: .language-python}\n",
    "> > ## Solution\n",
    "> >\n",
    "> > ~~~\n",
    "> > 'left'\n",
    "> > ~~~\n",
    "> > {: .output}\n",
    "> >\n",
    ">> The `initial` variable is assigned the value `'left'`.\n",
    "> > In the second line, the `position` variable also receives\n",
    ">> the string value `'left'`. In third line, the `initial` variable is given the\n",
    ">> value `'right'`, but the `position` variable retains its string value\n",
    ">> of `'left'`.\n",
    ">{: .solution}\n",
    "{: .challenge}\n",
    "\n",
    "> ## Challenge\n",
    ">\n",
    "> If you assign `a = 123`,\n",
    "> what happens if you try to get the second digit of `a` via `a[1]`?\n",
    ">\n",
    "> > ## Solution\n",
    "> > Numbers are not strings or sequences and Python will raise an error if you try to perform an index operation on a\n",
    "> > number. In the [next lesson on types and type conversion]({{ page.root }}/03-types-conversion/#convert-numbers-and-strings)\n",
    "> > we will learn more about types and how to convert between different types. If you want the Nth digit of a number you\n",
    "> > can convert it into a string using the `str` built-in function and then perform an index operation on that string.\n",
    "> >\n",
    "> > ~~~\n",
    "> > a = 123\n",
    "> > print(a[1])\n",
    "> > ~~~\n",
    "> > {: .language-python}\n",
    "> > ~~~\n",
    "> > TypeError: 'int' object is not subscriptable\n",
    "> > ~~~\n",
    "> > {: .error}\n",
    "> > \n",
    "> > \n",
    "> > ~~~\n",
    "> > a = str(123)\n",
    "> > print(a[1])\n",
    "> > ~~~\n",
    "> > {: .language-python}\n",
    "> > ~~~\n",
    "> > 2\n",
    "> > ~~~\n",
    "> > {: .output}\n",
    "> {: .solution}\n",
    "{: .challenge}\n",
    "\n",
    "> ## Choosing a Name\n",
    ">\n",
    "> Which is a better variable name, `m`, `min`, or `minutes`?\n",
    "> Why?\n",
    "> Hint: think about which code you would rather inherit\n",
    "> from someone who is leaving the lab:\n",
    ">\n",
    "> 1. `ts = m * 60 + s`\n",
    "> 2. `tot_sec = min * 60 + sec`\n",
    "> 3. `total_seconds = minutes * 60 + seconds`\n",
    ">\n",
    "> > ## Solution\n",
    "> >\n",
    "> > `minutes` is better because `min` might mean something like \"minimum\"\n",
    "> > (and actually is an existing built-in function in Python that we will cover later).\n",
    "> {: .solution}\n",
    "{: .challenge}\n",
    "\n",
    "> ## Slicing practice\n",
    ">\n",
    "> What does the following program print?\n",
    ">\n",
    "> ~~~\n",
    "> atom_name = 'carbon'\n",
    "> print('atom_name[1:3] is:', atom_name[1:3])\n",
    "> ~~~\n",
    "> {: .language-python}\n",
    ">\n",
    "> > ## Solution\n",
    "> >\n",
    "> > ~~~\n",
    "> > atom_name[1:3] is: ar\n",
    "> > ~~~\n",
    "> > {: .output}\n",
    "> {: .solution}\n",
    "{: .challenge}\n",
    "\n",
    "> ## Slicing concepts\n",
    ">\n",
    "> 1.  What does `thing[low:high]` do?\n",
    "> 2.  What does `thing[low:]` (without a value after the colon) do?\n",
    "> 3.  What does `thing[:high]` (without a value before the colon) do?\n",
    "> 4.  What does `thing[:]` (just a colon) do?\n",
    "> 5.  What does `thing[number:some-negative-number]` do?\n",
    "> 6.  What happens when you choose a `high` value which is out of range? (i.e., try `atom_name[0:15]`) \n",
    ">\n",
    "> > ## Solutions\n",
    "> >\n",
    "> > 1. `thing[low:high]` returns a slice from `low` to the value before `high`\n",
    "> > 2. `thing[low:]` returns a slice from `low` all the way to the end of `thing`\n",
    "> > 3. `thing[:high]` returns a slice from the beginning of `thing` to the value before `high`\n",
    "> > 4. `thing[:]` returns all of `thing`\n",
    "> > 5. `thing[number:some-negative-number]` returns a slice from `number` to `some-negative-number` values from the end of `thing`\n",
    "> > 6. If a part of the slice is out of range, the operation does not fail. `atom_name[0:15]` gives the same result as `atom_name[0:]`.\n",
    "> >\n",
    "> {: .solution}\n",
    "{: .challenge}"
   ]
  }
 ],
 "metadata": {},
 "nbformat": 4,
 "nbformat_minor": 2
}
