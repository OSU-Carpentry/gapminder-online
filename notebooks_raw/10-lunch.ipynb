{
 "cells": [
  {
   "cell_type": "markdown",
   "metadata": {},
   "source": [
    "---\n",
    "layout: break\n",
    "title: \"Lunch\"\n",
    "teaching: 0\n",
    "exercises: 0\n",
    "break: 45\n",
    "---\n",
    "Over lunch, reflect on and discuss the following:\n",
    "* What sort of packages might you use in Python and why would you use them?\n",
    "* How would data need to be formatted to be used in Pandas data frames? Would the data you have meet these requirements?\n",
    "* What limitations or problems might you run into when thinking about how to apply what we've learned to your own projects or data?"
   ]
  }
 ],
 "metadata": {},
 "nbformat": 4,
 "nbformat_minor": 2
}
