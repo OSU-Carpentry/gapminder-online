{
 "cells": [
  {
   "cell_type": "markdown",
   "metadata": {},
   "source": [
    "---\n",
    "title: \"Built-in Functions and Help\"\n",
    "teaching: 15\n",
    "exercises: 10\n",
    "questions:\n",
    "- \"How can I use built-in functions?\"\n",
    "- \"How can I find out what they do?\"\n",
    "- \"What kind of errors can occur in programs?\"\n",
    "objectives:\n",
    "- \"Explain the purpose of functions.\"\n",
    "- \"Correctly call built-in Python functions.\"\n",
    "- \"Correctly nest calls to built-in functions.\"\n",
    "- \"Use help to display documentation for built-in functions.\"\n",
    "- \"Correctly describe situations in which SyntaxError and NameError occur.\"\n",
    "keypoints:\n",
    "- \"Use comments to add documentation to programs.\"\n",
    "- \"A function may take zero or more arguments.\"\n",
    "- \"Commonly-used built-in functions include `max`, `min`, and `round`.\"\n",
    "- \"Functions may only work for certain (combinations of) arguments.\"\n",
    "- \"Functions may have default values for some arguments.\"\n",
    "- \"Use the built-in function `help` to get help for a function.\"\n",
    "- \"The Jupyter Notebook has two ways to get help.\"\n",
    "- \"Every function returns something.\"\n",
    "- \"Python reports a syntax error when it can't understand the source of a program.\"\n",
    "- \"Python reports a runtime error when something goes wrong while a program is executing.\"\n",
    "- \"Fix syntax errors by reading the source code, and runtime errors by tracing the program's execution.\"\n",
    "---\n",
    "## Use comments to add documentation to programs."
   ]
  },
  {
   "cell_type": "code",
   "execution_count": null,
   "metadata": {},
   "outputs": [],
   "source": [
    "# This sentence isn't executed by Python.\n",
    "adjustment = 0.5   # Neither is this - anything after '#' is ignored."
   ]
  },
  {
   "cell_type": "markdown",
   "metadata": {},
   "source": [
    "{: .language-python}\n",
    "\n",
    "## A function may take zero or more arguments.\n",
    "\n",
    "*   We have seen some functions already --- now let's take a closer look.\n",
    "*   An *argument* is a value passed into a function.\n",
    "*   `len` takes exactly one.\n",
    "*   `int`, `str`, and `float` create a new value from an existing one.\n",
    "*   `print` takes zero or more.\n",
    "*   `print` with no arguments prints a blank line.\n",
    "    *   Must always use parentheses, even if they're empty,\n",
    "        so that Python knows a function is being called."
   ]
  },
  {
   "cell_type": "code",
   "execution_count": null,
   "metadata": {},
   "outputs": [],
   "source": [
    "print('before')\n",
    "print()\n",
    "print('after')"
   ]
  },
  {
   "cell_type": "markdown",
   "metadata": {},
   "source": [
    "{: .language-python}"
   ]
  },
  {
   "cell_type": "code",
   "execution_count": null,
   "metadata": {},
   "outputs": [],
   "source": [
    "before\n",
    "\n",
    "after"
   ]
  },
  {
   "cell_type": "markdown",
   "metadata": {},
   "source": [
    "{: .output}\n",
    "\n",
    "## Commonly-used built-in functions include `max`, `min`, and `round`.\n",
    "\n",
    "*   Use `max` to find the largest value of one or more values.\n",
    "*   Use `min` to find the smallest.\n",
    "*   Both work on character strings as well as numbers.\n",
    "    *   \"Larger\" and \"smaller\" use (0-9, A-Z, a-z) to compare letters."
   ]
  },
  {
   "cell_type": "code",
   "execution_count": null,
   "metadata": {},
   "outputs": [],
   "source": [
    "print(max(1, 2, 3))\n",
    "print(min('a', 'A', '0'))"
   ]
  },
  {
   "cell_type": "markdown",
   "metadata": {},
   "source": [
    "{: .language-python}"
   ]
  },
  {
   "cell_type": "code",
   "execution_count": null,
   "metadata": {},
   "outputs": [],
   "source": [
    "3\n",
    "0"
   ]
  },
  {
   "cell_type": "markdown",
   "metadata": {},
   "source": [
    "{: .output}\n",
    "\n",
    "## Functions may only work for certain (combinations of) arguments.\n",
    "\n",
    "*   `max` and `min` must be given at least one argument.\n",
    "    *   \"Largest of the empty set\" is a meaningless question.\n",
    "*   And they must be given things that can meaningfully be compared."
   ]
  },
  {
   "cell_type": "code",
   "execution_count": null,
   "metadata": {},
   "outputs": [],
   "source": [
    "print(max(1, 'a'))"
   ]
  },
  {
   "cell_type": "markdown",
   "metadata": {},
   "source": [
    "{: .language-python}"
   ]
  },
  {
   "cell_type": "code",
   "execution_count": null,
   "metadata": {},
   "outputs": [],
   "source": [
    "TypeError                                 Traceback (most recent call last)\n",
    "<ipython-input-52-3f049acf3762> in <module>\n",
    "----> 1 print(max(1, 'a'))\n",
    "\n",
    "TypeError: '>' not supported between instances of 'str' and 'int'"
   ]
  },
  {
   "cell_type": "markdown",
   "metadata": {},
   "source": [
    "{: .error}\n",
    "\n",
    "## Functions may have default values for some arguments.\n",
    "\n",
    "*   `round` will round off a floating-point number.\n",
    "*   By default, rounds to zero decimal places."
   ]
  },
  {
   "cell_type": "code",
   "execution_count": null,
   "metadata": {},
   "outputs": [],
   "source": [
    "round(3.712)"
   ]
  },
  {
   "cell_type": "markdown",
   "metadata": {},
   "source": [
    "{: .language-python}"
   ]
  },
  {
   "cell_type": "code",
   "execution_count": null,
   "metadata": {},
   "outputs": [],
   "source": [
    "4"
   ]
  },
  {
   "cell_type": "markdown",
   "metadata": {},
   "source": [
    "{: .output}\n",
    "\n",
    "*   We can specify the number of decimal places we want."
   ]
  },
  {
   "cell_type": "code",
   "execution_count": null,
   "metadata": {},
   "outputs": [],
   "source": [
    "round(3.712, 1)"
   ]
  },
  {
   "cell_type": "markdown",
   "metadata": {},
   "source": [
    "{: .language-python}"
   ]
  },
  {
   "cell_type": "code",
   "execution_count": null,
   "metadata": {},
   "outputs": [],
   "source": [
    "3.7"
   ]
  },
  {
   "cell_type": "markdown",
   "metadata": {},
   "source": [
    "{: .output}\n",
    "\n",
    "## Use the built-in function `help` to get help for a function.\n",
    "\n",
    "*   Every built-in function has online documentation."
   ]
  },
  {
   "cell_type": "code",
   "execution_count": null,
   "metadata": {},
   "outputs": [],
   "source": [
    "help(round)"
   ]
  },
  {
   "cell_type": "markdown",
   "metadata": {},
   "source": [
    "{: .language-python}"
   ]
  },
  {
   "cell_type": "code",
   "execution_count": null,
   "metadata": {},
   "outputs": [],
   "source": [
    "Help on built-in function round in module builtins:\n",
    "\n",
    "round(number, ndigits=None)\n",
    "    Round a number to a given precision in decimal digits.\n",
    "    \n",
    "    The return value is an integer if ndigits is omitted or None.  Otherwise\n",
    "    the return value has the same type as the number.  ndigits may be negative."
   ]
  },
  {
   "cell_type": "markdown",
   "metadata": {},
   "source": [
    "{: .output}\n",
    "\n",
    "## Python reports a syntax error when it can't understand the source of a program.\n",
    "\n",
    "*   Won't even try to run the program if it can't be parsed."
   ]
  },
  {
   "cell_type": "code",
   "execution_count": null,
   "metadata": {},
   "outputs": [],
   "source": [
    "# Forgot to close the quote marks around the string.\n",
    "name = 'Feng"
   ]
  },
  {
   "cell_type": "markdown",
   "metadata": {},
   "source": [
    "{: .language-python}"
   ]
  },
  {
   "cell_type": "code",
   "execution_count": null,
   "metadata": {},
   "outputs": [],
   "source": [
    "  File \"<ipython-input-56-f42768451d55>\", line 2\n",
    "    name = 'Feng\n",
    "                ^\n",
    "SyntaxError: EOL while scanning string literal"
   ]
  },
  {
   "cell_type": "markdown",
   "metadata": {},
   "source": [
    "{: .error}"
   ]
  },
  {
   "cell_type": "code",
   "execution_count": null,
   "metadata": {},
   "outputs": [],
   "source": [
    "# An extra '=' in the assignment.\n",
    "age = = 52"
   ]
  },
  {
   "cell_type": "markdown",
   "metadata": {},
   "source": [
    "{: .language-python}"
   ]
  },
  {
   "cell_type": "code",
   "execution_count": null,
   "metadata": {},
   "outputs": [],
   "source": [
    "  File \"<ipython-input-57-ccc3df3cf902>\", line 2\n",
    "    age = = 52\n",
    "          ^\n",
    "SyntaxError: invalid syntax"
   ]
  },
  {
   "cell_type": "markdown",
   "metadata": {},
   "source": [
    "{: .error}\n",
    "\n",
    "*   Look more closely at the error message:"
   ]
  },
  {
   "cell_type": "code",
   "execution_count": null,
   "metadata": {},
   "outputs": [],
   "source": [
    "print(\"hello world\""
   ]
  },
  {
   "cell_type": "markdown",
   "metadata": {},
   "source": [
    "{: .language-python}"
   ]
  },
  {
   "cell_type": "code",
   "execution_count": null,
   "metadata": {},
   "outputs": [],
   "source": [
    "  File \"<ipython-input-6-d1cc229bf815>\", line 1\n",
    "    print (\"hello world\"\n",
    "                        ^\n",
    "SyntaxError: unexpected EOF while parsing"
   ]
  },
  {
   "cell_type": "markdown",
   "metadata": {},
   "source": [
    "{: .error}\n",
    "\n",
    "*   The message indicates a problem on first line of the input (\"line 1\").\n",
    "    *   In this case the \"ipython-input\" section of the file name tells us that\n",
    "        we are working with input into IPython,\n",
    "        the Python interpreter used by the Jupyter Notebook.\n",
    "*   The `-6-` part of the filename indicates that\n",
    "    the error occurred in cell 6 of our Notebook.\n",
    "*   Next is the problematic line of code,\n",
    "    indicating the problem with a `^` pointer.\n",
    "\n",
    "## <a name='runtime-error'></a> Python reports a runtime error when something goes wrong while a program is executing."
   ]
  },
  {
   "cell_type": "code",
   "execution_count": null,
   "metadata": {},
   "outputs": [],
   "source": [
    "age = 53\n",
    "remaining = 100 - aege # mis-spelled 'age'"
   ]
  },
  {
   "cell_type": "markdown",
   "metadata": {},
   "source": [
    "{: .language-python}"
   ]
  },
  {
   "cell_type": "code",
   "execution_count": null,
   "metadata": {},
   "outputs": [],
   "source": [
    "NameError                                 Traceback (most recent call last)\n",
    "<ipython-input-59-1214fb6c55fc> in <module>\n",
    "      1 age = 53\n",
    "----> 2 remaining = 100 - aege # mis-spelled 'age'\n",
    "\n",
    "NameError: name 'aege' is not defined"
   ]
  },
  {
   "cell_type": "markdown",
   "metadata": {},
   "source": [
    "{: .error}\n",
    "\n",
    "*   Fix syntax errors by reading the source and runtime errors by tracing execution.\n",
    "\n",
    "## The Jupyter Notebook has two ways to get help.\n",
    "\n",
    "*   Place the cursor anywhere in the function invocation \n",
    "    (i.e., the function name or its parameters),\n",
    "    hold down `shift`,\n",
    "    and press `tab`.\n",
    "*   Or type a function name with a question mark after it.\n",
    "\n",
    "## Every function returns something.\n",
    "\n",
    "*   Every function call produces some result.\n",
    "*   If the function doesn't have a useful result to return,\n",
    "    it usually returns the special value `None`."
   ]
  },
  {
   "cell_type": "code",
   "execution_count": null,
   "metadata": {},
   "outputs": [],
   "source": [
    "result = print('example')\n",
    "print('result of print is', result)"
   ]
  },
  {
   "cell_type": "markdown",
   "metadata": {},
   "source": [
    "{: .language-python}"
   ]
  },
  {
   "cell_type": "code",
   "execution_count": null,
   "metadata": {},
   "outputs": [],
   "source": [
    "example\n",
    "result of print is None"
   ]
  },
  {
   "cell_type": "markdown",
   "metadata": {},
   "source": [
    "{: .output}\n",
    "\n",
    "> ## What Happens When\n",
    ">\n",
    "> 1. Explain in simple terms the order of operations in the following program:\n",
    ">    when does the addition happen, when does the subtraction happen,\n",
    ">    when is each function called, etc.\n",
    "> 2. What is the final value of `radiance`?\n",
    ">\n",
    "> ~~~\n",
    "> radiance = 1.0\n",
    "> radiance = max(2.1, 2.0 + min(radiance, 1.1 * radiance - 0.5))\n",
    "> ~~~\n",
    "> {: .language-python}\n",
    "> > ## Solution\n",
    "> > 1.\n",
    "> >    1. `1.1 * radiance = 1.1`\n",
    "> >    2. `1.1 - 0.5 = 0.6`\n",
    "> >    3. `min(radiance, 0.6) = 0.6`\n",
    "> >    4. `2.0 + 0.6 = 2.6`\n",
    "> >    5. `max(2.1, 2.6) = 2.6`\n",
    "> > 2. At the end, `radiance = 2.6`\n",
    "> {: .solution}\n",
    "{: .challenge}\n",
    "\n",
    "> ## Spot the Difference\n",
    ">\n",
    "> 1. Predict what each of the `print` statements in the program below will print.\n",
    "> 2. Does `max(len(rich), poor)` run or produce an error message?\n",
    ">    If it runs, does its result make any sense?\n",
    ">\n",
    "> ~~~\n",
    "> easy_string = \"abc\"\n",
    "> print(max(easy_string))\n",
    "> rich = \"gold\"\n",
    "> poor = \"tin\"\n",
    "> print(max(rich, poor))\n",
    "> print(max(len(rich), len(poor)))\n",
    "> ~~~\n",
    "> {: .language-python}\n",
    "> > ## Solution\n",
    "> > ~~~\n",
    "> > print(max(easy_string))\n",
    "> > ~~~\n",
    "> > {: .language-python}\n",
    "> > ~~~\n",
    "> > c\n",
    "> > ~~~\n",
    "> > {: .output}\n",
    "> > ~~~\n",
    "> > print(max(rich, poor))\n",
    "> > ~~~\n",
    "> > {: .language-python}\n",
    "> > ~~~\n",
    "> > tin\n",
    "> > ~~~\n",
    "> > {: .output}\n",
    "> > ~~~\n",
    "> > print(max(len(rich), len(poor)))\n",
    "> > ~~~\n",
    "> > {: .language-python}\n",
    "> > ~~~\n",
    "> > 4\n",
    "> > ~~~\n",
    "> > {: .output}\n",
    "> > `max(len(rich), poor)` throws a TypeError. This turns into `max(4, 'tin')` and \n",
    "> > as we discussed earlier a string and integer cannot meaningfully be compared.\n",
    "> > ~~~\n",
    "> > TypeError                                 Traceback (most recent call last)\n",
    "> > <ipython-input-65-bc82ad05177a> in <module>\n",
    "> > ----> 1 max(len(rich), poor)\n",
    "> > \n",
    "> > TypeError: '>' not supported between instances of 'str' and 'int'\n",
    "> > ~~~\n",
    "> > {: .error }\n",
    "> {: .solution}\n",
    "{: .challenge}\n",
    "\n",
    "> ## Why Not?\n",
    ">\n",
    "> Why don't `max` and `min` return `None` when they are given no arguments?\n",
    ">\n",
    "> > ## Solution\n",
    "> > `max` and `min` return TypeErrors in this case because the correct number of parameters\n",
    "> > was not supplied. If it just returned `None`, the error would be much harder to trace as it\n",
    "> > would likely be stored into a variable and used later in the program, only to likely throw\n",
    "> > a runtime error.\n",
    "> {: .solution}\n",
    "{: .challenge}\n",
    "\n",
    "> ## Last Character of a String\n",
    ">\n",
    "> If Python starts counting from zero,\n",
    "> and `len` returns the number of characters in a string,\n",
    "> what index expression will get the last character in the string `name`?\n",
    "> (Note: we will see a simpler way to do this in a later episode.)\n",
    ">\n",
    "> > ## Solution\n",
    "> >\n",
    "> > `name[len(name) - 1]`\n",
    "> {: .solution}\n",
    "{: .challenge}"
   ]
  }
 ],
 "metadata": {},
 "nbformat": 4,
 "nbformat_minor": 2
}
