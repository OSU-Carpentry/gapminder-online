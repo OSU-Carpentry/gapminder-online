{
 "cells": [
  {
   "cell_type": "markdown",
   "metadata": {},
   "source": [
    "---\n",
    "title: \"Feedback\"\n",
    "teaching: 0\n",
    "exercises: 15\n",
    "questions:\n",
    "- \"How did the class go?\"\n",
    "objectives:\n",
    "- \"Gather feedback on the class\"\n",
    "keypoints:\n",
    "- \"We are constantly seeking to improve this course.\"\n",
    "---\n",
    "\n",
    "Gather feedback from participants."
   ]
  }
 ],
 "metadata": {},
 "nbformat": 4,
 "nbformat_minor": 2
}
