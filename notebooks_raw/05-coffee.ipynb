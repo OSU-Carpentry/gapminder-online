{
 "cells": [
  {
   "cell_type": "markdown",
   "metadata": {},
   "source": [
    "---\n",
    "layout: break\n",
    "title: \"Morning Coffee\"\n",
    "teaching: 0\n",
    "exercises: 0\n",
    "break: 15\n",
    "---\n",
    "# Reflection exercise\n",
    "\n",
    "Over coffee, reflect on and discuss the following:\n",
    "* What are the different kinds of errors Python will report?\n",
    "* Did the code always produce the results you expected? If not, why?\n",
    "* Is there something we can do to prevent errors when we write code?"
   ]
  }
 ],
 "metadata": {},
 "nbformat": 4,
 "nbformat_minor": 2
}
