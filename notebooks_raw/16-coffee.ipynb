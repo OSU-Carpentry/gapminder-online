{
 "cells": [
  {
   "cell_type": "markdown",
   "metadata": {},
   "source": [
    "---\n",
    "layout: break\n",
    "title: \"Afternoon Coffee\"\n",
    "teaching: 0\n",
    "exercises: 0\n",
    "break: 15\n",
    "---\n",
    "# Reflection exercise\n",
    "\n",
    "Over break, reflect on and discuss the following:\n",
    "* A common refrain in software engineering is \"Don't Repeat Yourself\". How do the techniques we've learned in the last\n",
    "lessons help us avoid repeating ourselves? _note that in practice there is some nuance to this and should be balanced\n",
    "with doing the simplest thing that could possibly work_\n",
    "* What are the pros / cons of making a variable global or local to a function? \n",
    "* When would you consider turning a block of code into a function definition?"
   ]
  }
 ],
 "metadata": {},
 "nbformat": 4,
 "nbformat_minor": 2
}
