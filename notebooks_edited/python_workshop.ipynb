{
 "cells": [
  {
   "cell_type": "markdown",
   "metadata": {},
   "source": [
    "# Running and Quitting\n",
    "\n",
    "**Teaching:** 10 minutes  \n",
    "**Exercises:** 5 minutes \n",
    "\n",
    "## Questions:\n",
    "- How can I run Python programs? \n",
    "\n",
    "## Objectives:  \n",
    "- Launch the Azure server.\n",
    "- Create a Jupyter notebook.\n",
    "- Understand the difference between a Python script and a Jupyter notebook.\n",
    "- Create Markdown cells in a notebook.\n",
    "- Create and run Python cells in a notebook.\n",
    "\n",
    "## Key points:\n",
    "- Python scripts are plain text files.\n",
    "- Use the Jupyter Notebook for editing and running Python.\n",
    "- The Notebook has Command and Edit modes.\n",
    "- Use the keyboard and mouse to select and edit cells.\n",
    "- The Notebook will turn Markdown into pretty-printed documentation.\n",
    "- Markdown does most of what HTML does.\n",
    "\n",
    "## Getting Started with Azure Notebooks\n",
    "While many software developers will often use an integrated development environment (IDE) or a text editor to create and edit their Python programs, we will be using Azure notebooks during this lesson. \n",
    "\n",
    "Jupyter notebooks can also be run using the Anaconda Python distribution. If you have not already installed the Anaconda Python distribution, see [the setup instructions](https://swcarpentry.github.io/python-novice-gapminder/setup/) \n",
    "for installation instructions."
   ]
  },
  {
   "cell_type": "markdown",
   "metadata": {},
   "source": [
    "# Need to provide some details about running Azure"
   ]
  },
  {
   "cell_type": "markdown",
   "metadata": {},
   "source": [
    "## Creating a Python script\n",
    "\n",
    "*   To start writing a new Python program click the Text File icon under the *Other* header in the Launcher tab of the Main Work Area.\n",
    "    *   You can also create a new plain text file by selecting the *New -> Text File* from the *File* menu in the Menu Bar.\n",
    "*   To convert this plain text file to a Python program, select the *Save File As* action from the *File* menu in the Menu Bar and give your new text file a name that ends with the `.py` extension.\n",
    "    *   The `.py` extension lets everyone (including the operating system) know that this text file is a Python program.\n",
    "    *   This is convention, not a requirement.\n",
    "\n",
    "## Creating a Jupyter Notebook\n",
    "To open a new notebook click the Python 3 icon under the *Notebook* header in the Launcher tab in \n",
    "the main work area. You can also create a new notebook by selecting *New -> Notebook* from the *File* menu in the Menu Bar. Additional notes on Jupyter notebooks:.\n",
    "  *   Notebook files have the extension `.ipynb` to distinguish them from plain-text Python programs.\n",
    "  *   Notebooks can be exported as Python scripts that can be run from the command line.\n",
    "\n",
    "## Use Jupyter Notebooks for editing and running Python.\n",
    "*   While it's common to write Python scripts using a text editor, we are going to use the [Jupyter Notebook](https://jupyter.org/) for the remainder of this workshop.\n",
    "*   This has several advantages:\n",
    "    *   You can easily type, edit, and copy and paste blocks of code.\n",
    "    *   Tab complete allows you to easily access the names of things you are using\n",
    "        and learn more about them.\n",
    "    *   It allows you to annotate your code with links, different sized text, bullets, etc.\n",
    "        to make it more accessible to you and your collaborators.\n",
    "    *   It allows you to display figures next to the code that produces them\n",
    "        to tell a complete story of the analysis.\n",
    "*   Each notebook contains one or more cells that contain code, text, or images.\n",
    "\n",
    "## Code vs. Text\n",
    "Jupyter mixes code and text in different types of blocks, called cells. We often use the term \"code\" to mean \"the source code of software written in a language such as Python\". A \"code cell\" in a Notebook is a cell that contains software; a \"text cell\" is one that contains ordinary prose written for human beings. \n",
    "\n",
    "## Example Python code cell: \"Hello World.\""
   ]
  },
  {
   "cell_type": "code",
   "execution_count": null,
   "metadata": {},
   "outputs": [],
   "source": []
  },
  {
   "cell_type": "markdown",
   "metadata": {},
   "source": [
    "## Use the keyboard and mouse to select and edit cells.\n",
    "*   Pressing the <kbd>Return</kbd> key turns the border blue and engages Edit mode, which allows \n",
    "    you to type within the cell.\n",
    "*   We need some other way to tell the Notebook we want to run what's in the cell.\n",
    "*   Pressing <kbd>Shift</kbd>+<kbd>Return</kbd> together will execute the contents of the cell.\n",
    "\n",
    "## Notebooks will turn Markdown into pretty-printed documentation.\n",
    "*   Notebooks can also render [Markdown](https://en.wikipedia.org/wiki/Markdown).\n",
    "    *   A simple plain-text format for writing lists, links, and other things that might go into a web page.\n",
    "    *   Equivalently, a subset of HTML that looks like what you'd send in an old-fashioned email.\n",
    "*   Turn the current cell into a Markdown cell by entering the Command mode (<kbd>Esc</kbd>/gray) \n",
    "    and press the <kbd>M</kbd> key.\n",
    "*   Turn the current cell into a Code cell by entering the Command mode (<kbd>Esc</kbd>/gray) and \n",
    "    press the <kbd>y</kbd> key.\n",
    "\n",
    "## Markdown can be used to provide documentation for Python code.\n",
    "Asterisks can be used for creating bulleted lists.  \n",
    "Numbers can be used for numbered lists.  \n",
    "Adding spaces in a list allows sublists.\n",
    "Pound signs can be used to make headings.\n",
    "\n",
    "## Exercise: Create a bulleted and numbered list in Markdown in the cell below."
   ]
  },
  {
   "cell_type": "markdown",
   "metadata": {},
   "source": [
    "\n",
    "\n",
    "\n"
   ]
  },
  {
   "cell_type": "markdown",
   "metadata": {},
   "source": [
    "## Equation editing \n",
    "\n",
    "Notebooks can also include complex mathematical equations using [LaTeX](https://www.overleaf.com/learn/latex/mathematical_expressions) notation (click the link for some common applications). \n",
    "The equation is enclosed using dollar signs.\n",
    "\n",
    "## Exercise: Use LaTeX to write out Euler's identity."
   ]
  },
  {
   "cell_type": "markdown",
   "metadata": {},
   "source": [
    " "
   ]
  },
  {
   "cell_type": "markdown",
   "metadata": {},
   "source": [
    "# Variables and Assignment\n",
    "**Teaching:** 10 minutes  \n",
    "**Exercises:** 10 minutes  \n",
    "**Questions:**  \n",
    "- How can I store data in programs?\n",
    "\n",
    "## Objectives:\n",
    "- Write programs that assign scalar values to variables and perform calculations with those values.\n",
    "- Correctly trace value changes in programs that use scalar assignment.\n",
    "\n",
    "## Key Points:\n",
    "- Use variables to store values.\n",
    "- Use `print` to display values.\n",
    "- Variables persist between cells.\n",
    "- Variables must be created before they are used.\n",
    "- Variables can be used in calculations.\n",
    "- Use an index to get a single character from a string.\n",
    "- Use a slice to get a substring.\n",
    "- Use the built-in function `len` to find the length of a string.\n",
    "- Python is case-sensitive.\n",
    "- Use meaningful variable names.  \n",
    "\n",
    "## Use variables to store values.\n",
    "*   **Variables** are names for values.\n",
    "*   In Python the `=` symbol assigns the value on the right to the name on the left.\n",
    "*   The variable is created when a value is assigned to it.\n",
    "*   Here, Python assigns an age to a variable `age`\n",
    "    and a name in quotes to a variable `first_name`."
   ]
  },
  {
   "cell_type": "code",
   "execution_count": 2,
   "metadata": {},
   "outputs": [],
   "source": [
    "age = 30\n",
    "first_name = 'Steve'"
   ]
  },
  {
   "cell_type": "markdown",
   "metadata": {},
   "source": [
    "*   Variable names\n",
    "    * can **only** contain letters, digits, and underscore `_` (typically used to separate words in long variable names)\n",
    "    * cannot start with a digit\n",
    "    * are **case sensitive** (age, Age and AGE are three different variables)\n",
    "\n",
    "## Use `print` to display values.\n",
    "\n",
    "*   Python has a built-in function called `print` that prints things as text.\n",
    "*   Call the function (i.e., tell Python to run it) by using its name.\n",
    "*   Provide values to the function (i.e., the things to print) in parentheses.\n",
    "*   To add a string to the printout, wrap the string in single or double quotes.\n",
    "*   The values passed to the function are called **arguments**."
   ]
  },
  {
   "cell_type": "code",
   "execution_count": 1,
   "metadata": {},
   "outputs": [],
   "source": [
    "print(first_name, 'is', age, 'years old')"
   ]
  },
  {
   "cell_type": "markdown",
   "metadata": {},
   "source": [
    "*   `print` automatically puts a single space between items to separate them.\n",
    "*   And wraps around to a new line at the end.\n",
    "\n",
    "## Variables must be created before they are used.\n",
    "\n",
    "*   If a variable doesn't exist yet, or if the name has been misspelled,\n",
    "    Python reports an error. (Unlike some languages, which \"guess\" a default value.)"
   ]
  },
  {
   "cell_type": "code",
   "execution_count": 5,
   "metadata": {
    "scrolled": true
   },
   "outputs": [],
   "source": [
    "print(last_name)"
   ]
  },
  {
   "cell_type": "markdown",
   "metadata": {},
   "source": [
    "*   The last line of an error message is usually the most informative.\n",
    "*   We will look at error messages in detail later.\n",
    "\n",
    "## Variables Persist Between Cells.\n",
    "\n",
    "Be aware that it is the *order* of execution of cells that is important in a Jupyter notebook, not the order in which they appear. Python will remember *all* the code that was run previously, including any variables you have defined, irrespective of the order in the notebook. Therefore if you define variables lower down the notebook and then (re)run cells further up, those defined further down will still be present. \n",
    "\n",
    "As an example, create two cells with the following content, in this order:\n",
    "\n",
    "> print(myval)  \n",
    "> myval = 1"
   ]
  },
  {
   "cell_type": "code",
   "execution_count": 7,
   "metadata": {},
   "outputs": [],
   "source": []
  },
  {
   "cell_type": "markdown",
   "metadata": {},
   "source": [
    "If you execute this in order, the first cell will give an error. However, if you run the first cell *after* the second cell it will print out `1`. To prevent confusion, it can be helpful to use the `Kernel` -> `Restart & Run All` option which clears the interpreter and runs everything from a clean slate going top to bottom.\n",
    "\n",
    "## Variables can be used in calculations.\n",
    "\n",
    "*   We can use variables in calculations just as if they were values.\n",
    "    *   Remember, we assigned the value `30` to `age` a few lines ago."
   ]
  },
  {
   "cell_type": "code",
   "execution_count": null,
   "metadata": {},
   "outputs": [],
   "source": [
    "age = age + 3\n",
    "print('Age in three years:', age)"
   ]
  },
  {
   "cell_type": "markdown",
   "metadata": {},
   "source": [
    "## Use indexing to grab part of a collection.\n",
    "\n",
    "*   The characters (individual letters, numbers, and so on) in a string are\n",
    "    ordered. \n",
    "*   For example, the string `'AB'` is not the same as `'BA'`. \n",
    "*   Because of this ordering, we can treat the string as a list of characters.\n",
    "*   Each position in the string (first, second, etc.) is given a number. \n",
    "*   The number is called an *index* of the string, which is a kind of *collection*.\n",
    "*   Indices are numbered from 0.\n",
    "*   Use the position's index in square brackets to get the character at that\n",
    "    position.\n",
    "    \n",
    "![an illustration of indexing](https://swcarpentry.github.io/python-novice-gapminder/fig/2_indexing.svg)"
   ]
  },
  {
   "cell_type": "code",
   "execution_count": null,
   "metadata": {},
   "outputs": [],
   "source": [
    "atom_name = 'helium'\n",
    "print(atom_name[0])"
   ]
  },
  {
   "cell_type": "markdown",
   "metadata": {},
   "source": [
    "## Use a slice to get a substring.\n",
    "\n",
    "*   A part of a string is called a *substring*.\n",
    "*   A *slice* is a part of a string (or, more generally, any list-like thing).\n",
    "*   We take a slice by using `[start:stop]`, where `start` is replaced with the\n",
    "    index of the first element we want and `stop` is replaced with the index of\n",
    "    the element just after the last element we want.\n",
    "*   Mathematically, you might say that a slice selects `[start:stop]`.\n",
    "*   The difference between `stop` and `start` is the slice's length.\n",
    "*   Taking a slice does not change the contents of the original string. Instead,\n",
    "    the slice is a copy of part of the original string.  \n",
    "\n",
    ">  atom_name = 'sodium'  \n",
    ">  print(atom_name[0:3])"
   ]
  },
  {
   "cell_type": "code",
   "execution_count": null,
   "metadata": {},
   "outputs": [],
   "source": []
  },
  {
   "cell_type": "markdown",
   "metadata": {},
   "source": [
    "## Use the built-in function `len` to find the length of a string.\n",
    "\n",
    "Define a variable \"atom_name\" as \"helium,\" then print its length."
   ]
  },
  {
   "cell_type": "code",
   "execution_count": null,
   "metadata": {},
   "outputs": [],
   "source": []
  },
  {
   "cell_type": "markdown",
   "metadata": {},
   "source": [
    "*   Nested functions are evaluated from the inside out,\n",
    "     like in mathematics.\n",
    "\n",
    "## Python is case-sensitive.\n",
    "\n",
    "*   Python thinks that upper- and lower-case letters are different,\n",
    "    so `Name` and `name` are different variables.\n",
    "*   There are conventions for using upper-case letters at the start of variable names so we will use lower-case letters for now.\n",
    "\n",
    "## Use meaningful variable names.\n",
    "\n",
    "*   Python doesn't care what you call variables as long as they obey the rules\n",
    "    (alphanumeric characters and the underscore).\n",
    "\n",
    ">  flabadab = 30   \n",
    ">  ewr_422_yY = 'Steve'   \n",
    ">  print(ewr_422_yY, 'is', flabadab, 'years old')  "
   ]
  },
  {
   "cell_type": "code",
   "execution_count": null,
   "metadata": {},
   "outputs": [],
   "source": []
  },
  {
   "cell_type": "markdown",
   "metadata": {},
   "source": [
    "*   Use meaningful variable names to help other people understand what the program does.\n",
    "*   The most important \"other person\" is your future self.\n",
    "\n",
    "## Swapping Values Challenge\n",
    "\n",
    "Type the following code, then figue out the values of the variables in this program\n",
    "after each statement is executed.\n",
    "\n",
    ">  x = 1.0     \n",
    ">  y = 3.0     \n",
    ">  swap = x    \n",
    ">  x = y       \n",
    ">  y = swap   \n",
    ">  print(x,y,swap)"
   ]
  },
  {
   "cell_type": "code",
   "execution_count": null,
   "metadata": {},
   "outputs": [],
   "source": []
  },
  {
   "cell_type": "markdown",
   "metadata": {},
   "source": [
    "## Index\n",
    "\n",
    "If you assign `a = 123`,\n",
    "What happens if you try to get the second digit of `a` via `a[1]`?"
   ]
  },
  {
   "cell_type": "code",
   "execution_count": null,
   "metadata": {},
   "outputs": [],
   "source": []
  },
  {
   "cell_type": "markdown",
   "metadata": {},
   "source": [
    "## Choosing Variable Names\n",
    "\n",
    "Which is a better variable name, `m`, `min`, or `minutes`?\n",
    "Why?"
   ]
  },
  {
   "cell_type": "markdown",
   "metadata": {},
   "source": [
    "## Slicing practice\n",
    "\n",
    "What does the following program print?  \n",
    "\n",
    ">  atom_name = 'carbon'  \n",
    ">  print('atom_name[1:3] is:', atom_name[1:3])  "
   ]
  },
  {
   "cell_type": "code",
   "execution_count": null,
   "metadata": {},
   "outputs": [],
   "source": []
  },
  {
   "cell_type": "markdown",
   "metadata": {},
   "source": [
    "## Getting the last character in a string\n",
    "\n",
    "How do you get the last character in the string below?  \n",
    "name = 'Dave'"
   ]
  },
  {
   "cell_type": "code",
   "execution_count": null,
   "metadata": {},
   "outputs": [],
   "source": []
  },
  {
   "cell_type": "markdown",
   "metadata": {},
   "source": [
    "# Data Types and Type Conversion\n",
    "**Teaching:** 10 minutes  \n",
    "**Exercises:** 10 minutes\n",
    "\n",
    "## Questions:\n",
    "- What kinds of data do programs store?\n",
    "- How can I convert one type to another?\n",
    "\n",
    "## Objectives:\n",
    "- Explain key differences between integers and floating point numbers.\n",
    "- Explain key differences between numbers and character strings.\n",
    "- Use built-in functions to convert between integers, floating point numbers, and strings.\n",
    "\n",
    "## Keypoints:\n",
    "- Every value has a type.\"\n",
    "- Use the built-in function `type` to find the type of a value.\n",
    "- Types control what operations can be done on values.\n",
    "- Strings can be added and multiplied.\n",
    "- Strings have a length (but numbers don't).\n",
    "- Must convert numbers to strings or vice versa when operating on them.\n",
    "- Can mix integers and floats freely in operations.\n",
    "- Variables only change value when something is assigned to them.\n",
    "\n",
    "## Every value has a type.\n",
    "*   Every value in a program has a specific type.\n",
    "*   Integer (`int`): represents positive or negative whole numbers like 3 or -512.\n",
    "*   Floating point number (`float`): represents real numbers like 3.14159 or -2.5.\n",
    "*   Character string (usually called \"string\", `str`): text.\n",
    "    *   Written in either single quotes or double quotes (as long as they match).\n",
    "    *   The quote marks aren't printed when the string is displayed.\n",
    "\n",
    "## Use the built-in function `type` to find the type of a value.\n",
    "\n",
    "*   Use the built-in function `type` to find out what type a value has.\n",
    "*   Works on variables as well.\n",
    "    *   But remember: the *value* has the type --- the *variable* is just a label.  \n",
    "\n",
    "The following lines of code print the type of variable of the integer 52, the string \"average,\" and the float 1.5.  \n",
    ">  print(type(52))  \n",
    ">  print(type('average'))  \n",
    ">  print(type(3/2))  "
   ]
  },
  {
   "cell_type": "code",
   "execution_count": null,
   "metadata": {},
   "outputs": [],
   "source": []
  },
  {
   "cell_type": "markdown",
   "metadata": {},
   "source": [
    "## Types control what operations (or methods) can be performed on a given value.\n",
    "\n",
    "* A value's type determines what the program can do to it.\n",
    "* Every type has its own rules.\n",
    "* Writing effective Python code requires the user to understand the rules.\n",
    "\n",
    "Run the next few lines, but before running it, guess what you think the result will be.\n",
    "\n",
    ">  print(5 - 3)  \n",
    ">  print('hello' - 'h')  \n",
    ">  print(5 * 3)  \n",
    ">  print('hello' * 3)  \n",
    ">  print('hello' + ' ' + 'world')  "
   ]
  },
  {
   "cell_type": "code",
   "execution_count": null,
   "metadata": {},
   "outputs": [],
   "source": []
  },
  {
   "cell_type": "markdown",
   "metadata": {},
   "source": [
    "## You can use the \"+\" and \"*\" operators on strings."
   ]
  },
  {
   "cell_type": "code",
   "execution_count": null,
   "metadata": {},
   "outputs": [],
   "source": [
    "full_name = 'Dave' + ' ' + 'Lampert'\n",
    "print(full_name)"
   ]
  },
  {
   "cell_type": "markdown",
   "metadata": {},
   "source": [
    "*   Multiplying a character string by an integer _N_ creates a new string that consists of that character string repeated  _N_ times, since multiplication is repeated addition."
   ]
  },
  {
   "cell_type": "code",
   "execution_count": null,
   "metadata": {},
   "outputs": [],
   "source": [
    "separator = '=' * 10\n",
    "print(separator)"
   ]
  },
  {
   "cell_type": "markdown",
   "metadata": {},
   "source": [
    "## Strings have a length (but numbers don't).\n",
    "\n",
    "*   The built-in function `len` counts the number of characters in a string."
   ]
  },
  {
   "cell_type": "code",
   "execution_count": null,
   "metadata": {},
   "outputs": [],
   "source": [
    "print(len(full_name))"
   ]
  },
  {
   "cell_type": "markdown",
   "metadata": {},
   "source": [
    "*   But numbers don't have a length (not even zero)."
   ]
  },
  {
   "cell_type": "code",
   "execution_count": null,
   "metadata": {},
   "outputs": [],
   "source": [
    "print(len(52))"
   ]
  },
  {
   "cell_type": "markdown",
   "metadata": {},
   "source": [
    "## <a name='convert-numbers-and-strings'></a> Must convert numbers to strings or vice versa when operating on them.\n",
    "\n",
    "*   Cannot add numbers and strings."
   ]
  },
  {
   "cell_type": "code",
   "execution_count": null,
   "metadata": {},
   "outputs": [],
   "source": [
    "print(1 + '2')"
   ]
  },
  {
   "cell_type": "markdown",
   "metadata": {},
   "source": [
    "*   This operation is not allowed because addition is defined for these different variable types.\n",
    "*   Some types can be converted to other types by using the type name as a function."
   ]
  },
  {
   "cell_type": "code",
   "execution_count": null,
   "metadata": {},
   "outputs": [],
   "source": [
    "print(1 + int('2'))\n",
    "print(str(1) + '2')"
   ]
  },
  {
   "cell_type": "markdown",
   "metadata": {},
   "source": [
    "## Integers and floats can be mixed freely in operations.\n",
    "\n",
    "*   Integers and floating-point numbers can be mixed in arithmetic.\n",
    "    *   Python 3 automatically converts integers to floats as needed. (Integer division in Python 2 will return an integer, the *floor* of the division.)"
   ]
  },
  {
   "cell_type": "code",
   "execution_count": null,
   "metadata": {},
   "outputs": [],
   "source": [
    "print('half is', 1 / 2.0)\n",
    "print('three squared is', 3.0 ** 2)"
   ]
  },
  {
   "cell_type": "markdown",
   "metadata": {},
   "source": [
    "## Variables only change value when something is assigned to them.\n",
    "\n",
    "*   If we make one cell in a spreadsheet depend on another,\n",
    "    and update the latter,\n",
    "    the former updates automatically.\n",
    "*   This does **not** happen in programming languages.\n",
    "\n",
    "Guess what the output of the following will be, the run the code.  \n",
    "\n",
    ">  first = 1  \n",
    ">  second = 5 * first  \n",
    ">  first = 2  \n",
    ">  print('first is', first, 'and second is', second)  "
   ]
  },
  {
   "cell_type": "code",
   "execution_count": null,
   "metadata": {},
   "outputs": [],
   "source": []
  },
  {
   "cell_type": "markdown",
   "metadata": {},
   "source": [
    "## Fractions\n",
    "\n",
    "What type of value is 3.4?  \n",
    "How can you find out?  \n",
    "Write code below to determine the answer.  "
   ]
  },
  {
   "cell_type": "code",
   "execution_count": null,
   "metadata": {},
   "outputs": [],
   "source": []
  },
  {
   "cell_type": "markdown",
   "metadata": {},
   "source": [
    "## Automatic Type Conversion\n",
    "\n",
    "What type of value is 3.25 + 4?\n",
    "Write code below to determine the answer. "
   ]
  },
  {
   "cell_type": "code",
   "execution_count": null,
   "metadata": {},
   "outputs": [],
   "source": []
  },
  {
   "cell_type": "markdown",
   "metadata": {},
   "source": [
    "## Division Types\n",
    "\n",
    "In Python 3, there are different types of division.\n",
    "* The `//` operator performs integer (whole-number) floor division.\n",
    "* The `/` operator performs floating-point division.\n",
    "* The '%' (or *modulo*) operator calculates and returns the remainder from integer division.\n",
    "\n",
    ">  print('5 // 3:', 5//3)  \n",
    ">  print('5 / 3:', 5/3)  \n",
    ">  print('5 % 3:', 5%3)  "
   ]
  },
  {
   "cell_type": "code",
   "execution_count": null,
   "metadata": {},
   "outputs": [],
   "source": []
  },
  {
   "cell_type": "markdown",
   "metadata": {},
   "source": [
    "## Strings to Numbers\n",
    "\n",
    "Where reasonable, `float()` will convert a string to a floating point number, and `int()` will convert a floating point number to an integer. If the conversion doesn't make sense, however, an error message will occur.  \n",
    "\n",
    ">  print(\"string to float:\", float(\"3.4\"))  \n",
    ">  print(\"float to int:\", int(3.4))  \n",
    ">  print(\"string to float:\", float(\"Hello world!\"))  "
   ]
  },
  {
   "cell_type": "code",
   "execution_count": null,
   "metadata": {},
   "outputs": [],
   "source": []
  },
  {
   "cell_type": "markdown",
   "metadata": {},
   "source": [
    "## Arithmetic with Different Types\n",
    "\n",
    "Which of the following will return the floating point number `2.0`?  \n",
    "\n",
    "first = 1.0\n",
    "second = \"1\"\n",
    "third = \"1.1\"\n",
    "1. `first + float(second)`\n",
    "2. `float(second) + float(third)`\n",
    "3. `first + int(third)`\n",
    "4. `first + int(float(third))`\n",
    "5. `int(first) + int(float(third))`\n",
    "6. `2.0 * second`\n"
   ]
  },
  {
   "cell_type": "code",
   "execution_count": null,
   "metadata": {},
   "outputs": [],
   "source": []
  },
  {
   "cell_type": "markdown",
   "metadata": {},
   "source": [
    "# Built-in Functions and Help\n",
    "**Teaching:** 15 minutes  \n",
    "**Exercises:** 10 minutes  \n",
    "## Questions:  \n",
    "- How can I use built-in functions?\n",
    "- How can I find out what they do?\n",
    "- What kind of errors can occur in programs?\n",
    "\n",
    "## Objectives:\n",
    "- Explain the purpose of functions.\n",
    "- Correctly call built-in Python functions.\n",
    "- Correctly nest calls to built-in functions.\n",
    "- Use help to display documentation for built-in functions.\n",
    "- Correctly describe situations in which SyntaxError and NameError occur.\n",
    "\n",
    "## Key points:\n",
    "- Use comments to add documentation to programs.\n",
    "- A function may take zero or more arguments.\n",
    "- Commonly-used built-in functions include `max`, `min`, and `round`.\n",
    "- Functions may only work for certain (combinations of) arguments.\n",
    "- Functions may have default values for some arguments.\n",
    "- Use the built-in function `help` to get help for a function.\n",
    "- The Jupyter Notebook has two ways to get help.\n",
    "- Every function returns something.\n",
    "- Python reports a syntax error when it can't understand the source of a program.\n",
    "- Python reports a runtime error when something goes wrong while a program is executing.\n",
    "- Fix syntax errors by reading the source code, and runtime errors by tracing the program's execution.\n",
    "\n",
    "## Use comments to add documentation to programs."
   ]
  },
  {
   "cell_type": "code",
   "execution_count": null,
   "metadata": {},
   "outputs": [],
   "source": [
    "# This sentence isn't executed by Python.\n",
    "adjustment = 0.5   # Neither is this - anything after '#' is ignored."
   ]
  },
  {
   "cell_type": "markdown",
   "metadata": {},
   "source": [
    "## A function may take zero or more arguments.\n",
    "\n",
    "*   We have seen some functions already --- now let's take a closer look.\n",
    "*   An *argument* is a value passed into a function.\n",
    "*   `len` takes exactly one.\n",
    "*   `int`, `str`, and `float` create a new value from an existing one.\n",
    "*   `print` takes zero or more.\n",
    "*   `print` with no arguments prints a blank line.\n",
    "    *   Must always use parentheses, even if they're empty,\n",
    "        so that Python knows a function is being called.\n",
    "\n",
    "Try out the following print statements:  \n",
    ">  print('before')  \n",
    ">  print()  \n",
    ">  print('after')  \n",
    ">  print(print)"
   ]
  },
  {
   "cell_type": "code",
   "execution_count": null,
   "metadata": {},
   "outputs": [],
   "source": []
  },
  {
   "cell_type": "markdown",
   "metadata": {},
   "source": [
    "## Commonly-used built-in functions include `max`, `min`, and `round`.\n",
    "\n",
    "*   Use `max` to find the largest value of one or more values.\n",
    "*   Use `min` to find the smallest.\n",
    "*   Both work on character strings as well as numbers.\n",
    "    *   \"Larger\" and \"smaller\" use (0-9, A-Z, a-z) to compare letters.\n",
    "    \n",
    "Try out the following lines, but guess the result before executing the code.  \n",
    "\n",
    ">  print(max(1, 2, 3))  \n",
    ">  print(min('a', 'A', '0'))"
   ]
  },
  {
   "cell_type": "code",
   "execution_count": null,
   "metadata": {},
   "outputs": [],
   "source": []
  },
  {
   "cell_type": "markdown",
   "metadata": {},
   "source": [
    "## Functions may only work for certain (combinations of) arguments.\n",
    "\n",
    "*   `max` and `min` must be given at least one argument.\n",
    "    *   \"Largest of the empty set\" is a meaningless question.\n",
    "*   And they must be given things that can meaningfully be compared."
   ]
  },
  {
   "cell_type": "code",
   "execution_count": 11,
   "metadata": {
    "scrolled": true
   },
   "outputs": [],
   "source": [
    "max(1, 'a')"
   ]
  },
  {
   "cell_type": "markdown",
   "metadata": {},
   "source": [
    "## Functions may have default values for some arguments.\n",
    "\n",
    "*   `round` will round off a floating-point number.\n",
    "*   By default, rounds to zero decimal places.\n",
    "*   We can specify the number of decimal places we want.\n",
    "\n",
    "Try out the following code, but guess the result first:  \n",
    ">  round(3.712)   \n",
    ">  round(3.712, 1)  \n",
    ">  round(3.712, -1)  "
   ]
  },
  {
   "cell_type": "code",
   "execution_count": null,
   "metadata": {},
   "outputs": [],
   "source": []
  },
  {
   "cell_type": "markdown",
   "metadata": {},
   "source": [
    "## Use the built-in function `help` to get help for a function.\n",
    "\n",
    "*   Every built-in function has online documentation."
   ]
  },
  {
   "cell_type": "code",
   "execution_count": null,
   "metadata": {},
   "outputs": [],
   "source": [
    "help(round)"
   ]
  },
  {
   "cell_type": "markdown",
   "metadata": {},
   "source": [
    "## Python reports a syntax error when it can't understand the source of a program.\n",
    "\n",
    "Try to run the following:  \n",
    ">  name = 'Feng  \n",
    ">  print(\"hello world\""
   ]
  },
  {
   "cell_type": "code",
   "execution_count": 12,
   "metadata": {},
   "outputs": [],
   "source": []
  },
  {
   "cell_type": "markdown",
   "metadata": {},
   "source": [
    "*   The message indicates a problem on first line of the input (\"line 1\").\n",
    "    *   In this case the \"ipython-input\" section of the file name tells us that\n",
    "        we are working with input into IPython,\n",
    "        the Python interpreter used by the Jupyter Notebook.\n",
    "*   The `<ipython-input>` part of the filename indicates that the error occurred in cell 6 of our Notebook.\n",
    "*   Next is the problematic line of code, indicating the problem with a `^` pointer.\n",
    "\n",
    "## <a name='runtime-error'></a> Python reports a runtime error when something goes wrong while a program is executing."
   ]
  },
  {
   "cell_type": "code",
   "execution_count": null,
   "metadata": {},
   "outputs": [],
   "source": [
    "age = 53\n",
    "remaining = 100 - aege # mis-spelled 'age'"
   ]
  },
  {
   "cell_type": "markdown",
   "metadata": {},
   "source": [
    "*   Fix syntax errors by reading the source and runtime errors by tracing execution.\n",
    "\n",
    "## The Jupyter Notebook has two ways to get help.\n",
    "\n",
    "*   Place the cursor anywhere in the function invocation \n",
    "    (i.e., the function name or its parameters),\n",
    "    hold down `shift`,\n",
    "    and press `tab`.\n",
    "*   Or type a function name with a question mark after it.\n",
    "\n",
    "## Every function returns something.\n",
    "\n",
    "*   Every function call produces some result.\n",
    "*   If the function doesn't have a useful result to return,\n",
    "    it usually returns the special value `None`."
   ]
  },
  {
   "cell_type": "code",
   "execution_count": null,
   "metadata": {},
   "outputs": [],
   "source": [
    "result = print('example')\n",
    "print('result of print is', result)"
   ]
  },
  {
   "cell_type": "markdown",
   "metadata": {},
   "source": [
    "## What Happens When\n",
    "What is the final value of `radiance`?  \n",
    "\n",
    ">  radiance = 1.0  \n",
    ">  radiance = max(2.1, 2.0 + min(radiance, 1.1 * radiance - 0.5))  "
   ]
  },
  {
   "cell_type": "code",
   "execution_count": null,
   "metadata": {},
   "outputs": [],
   "source": []
  },
  {
   "cell_type": "markdown",
   "metadata": {},
   "source": [
    "## Spot the Difference\n",
    "Predict what each of the `print` statements in the program below will print.  \n",
    "\n",
    ">  easy_string = \"abc\"  \n",
    ">  print(max(easy_string))  \n",
    ">  rich = \"gold\"  \n",
    ">  poor = \"tin\"  \n",
    ">  print(max(rich, poor))  \n",
    ">  print(max(len(rich), len(poor)))  "
   ]
  },
  {
   "cell_type": "code",
   "execution_count": null,
   "metadata": {},
   "outputs": [],
   "source": []
  },
  {
   "cell_type": "markdown",
   "metadata": {},
   "source": [
    "# Reflection exercise\n",
    "\n",
    "Over coffee, reflect on and discuss the following:\n",
    "* What are the different kinds of errors Python will report?\n",
    "* Did the code always produce the results you expected? If not, why?\n",
    "* Is there something we can do to prevent errors when we write code?"
   ]
  },
  {
   "cell_type": "code",
   "execution_count": null,
   "metadata": {},
   "outputs": [],
   "source": []
  },
  {
   "cell_type": "markdown",
   "metadata": {},
   "source": [
    "# Libraries\n",
    "**Teaching:** 10 minutes  \n",
    "**Exercises:** 10 minutes\n",
    "\n",
    "## Questions:\n",
    "- How can I use software that other people have written?\n",
    "- How can I find out what that software does?\n",
    "\n",
    "## Objectives:\n",
    "- Explain what software libraries are and why programmers create and use them.\n",
    "- Write programs that import and use libraries from Python's standard library.\n",
    "- Find and read documentation for standard libraries interactively (in the interpreter) and online.\n",
    "\n",
    "# Key points:\n",
    "- Most of the power of a programming language is in its libraries.\n",
    "- A program must import a library module in order to use it.\n",
    "- Use `help` to learn about the contents of a library module.\n",
    "- Import specific items from a library to shorten programs.\n",
    "- Create an alias for a library when importing it to shorten programs.\n",
    "\n",
    "## Most of the power of a programming language is in its libraries.\n",
    "\n",
    "*   A *library* is a collection of files that contain functions for use by other programs.\n",
    "*   Libraries may also contain data values and other things.\n",
    "*   The Python [standard library](https://docs.python.org/3/library/) is an extensive suite of modules that comes with Python itself.\n",
    "*   Many additional libraries are available from [PyPI](https://pypi.python.org/pypi/) (the Python Package Index).\n",
    "\n",
    "## A program must import a library module before using it.\n",
    "\n",
    "*   Use `import` to load a library into a program's memory.\n",
    "*   Then refer to things from the library as `library_name.thing_name`.\n",
    "    *   Python uses `.` to mean \"part of\".\n",
    "*   The `math` library is a commonly-used part of the standard Python library.  \n",
    "*   The `math` library contains functions typically found on a calculator.\n",
    "\n",
    "Try out the following code below:  \n",
    "\n",
    ">  import math  \n",
    ">  \n",
    ">  print('pi is', math.pi)  \n",
    ">  print('cos(pi) is', math.cos(math.pi))"
   ]
  },
  {
   "cell_type": "code",
   "execution_count": null,
   "metadata": {},
   "outputs": [],
   "source": []
  },
  {
   "cell_type": "markdown",
   "metadata": {},
   "source": [
    "*   We have to refer to each item with the module's name.\n",
    "*   `math.cos(pi)` won't work, since `pi` is not defined yet.\n",
    "\n",
    "## Use `help` to learn about the contents of a library module.\n",
    "\n",
    "*   Works just like help for a function.  \n",
    "\n",
    ">  help(math)"
   ]
  },
  {
   "cell_type": "code",
   "execution_count": null,
   "metadata": {},
   "outputs": [],
   "source": []
  },
  {
   "cell_type": "markdown",
   "metadata": {},
   "source": [
    "## Import specific items from a library module to shorten programs.\n",
    "*   Use `from ... import ...` to load only specific items from a library module.\n",
    "*   Then refer to them directly without library name as prefix.\n",
    "\n",
    ">  from math import cos, pi  \n",
    ">  \n",
    ">  print('cos(pi) is', cos(pi))  "
   ]
  },
  {
   "cell_type": "code",
   "execution_count": null,
   "metadata": {},
   "outputs": [],
   "source": []
  },
  {
   "cell_type": "markdown",
   "metadata": {},
   "source": [
    "## Create an alias to shorten programs.\n",
    "\n",
    "*   Use `import ... as ...` to give a library a short *alias* while importing it.\n",
    "*   Then refer to items in the library using that shortened name.\n",
    "\n",
    ">  import math as m  \n",
    "\n",
    ">  print('cos(pi) is', m.cos(m.pi))  "
   ]
  },
  {
   "cell_type": "code",
   "execution_count": null,
   "metadata": {},
   "outputs": [],
   "source": []
  },
  {
   "cell_type": "markdown",
   "metadata": {},
   "source": [
    "*   Aliases are commonly used for libraries that are frequently used or have long names.\n",
    "    *   E.g., `matplotlib` plotting library is often aliased as `plt`.\n",
    "*   But can make programs harder to understand, since readers must learn the aliases.\n",
    "\n",
    "## Importing using the wildcard (\\*)\n",
    "*   All the parts of a library can be imported using the asterisk (\\*)\n",
    "*   This approach is not recommended, since the origin of variables is less clear\n",
    "\n",
    ">  from math import *  \n",
    ">  print(pi)"
   ]
  },
  {
   "cell_type": "code",
   "execution_count": null,
   "metadata": {},
   "outputs": [],
   "source": []
  },
  {
   "cell_type": "markdown",
   "metadata": {},
   "source": [
    "## Explore the Math Module.\n",
    "\n",
    "What function from the `math` module can you use to calculate a square root?  "
   ]
  },
  {
   "cell_type": "code",
   "execution_count": null,
   "metadata": {},
   "outputs": [],
   "source": []
  },
  {
   "cell_type": "markdown",
   "metadata": {},
   "source": [
    "## Exponents in Python\n",
    "What is another way to compute the square root of a number?  \n",
    "The double asterisk \\** is used rather than the carrot ^ for exponents in Python."
   ]
  },
  {
   "cell_type": "code",
   "execution_count": null,
   "metadata": {},
   "outputs": [],
   "source": []
  },
  {
   "cell_type": "markdown",
   "metadata": {},
   "source": [
    "## Locating the right libraries\n",
    "\n",
    "Let's say that you want to select a random character from a string:  \n",
    "\n",
    "bases = 'ACTTGCTTGAC'  \n",
    "\n",
    "Which python library could help you? Try to write a program to print a random letter from this string."
   ]
  },
  {
   "cell_type": "code",
   "execution_count": null,
   "metadata": {},
   "outputs": [],
   "source": []
  },
  {
   "cell_type": "markdown",
   "metadata": {},
   "source": [
    "## When Is Help Available?\n",
    "\n",
    "When a colleague of yours types `help(math)`, Python reports an error:\n",
    "\n",
    "> ~~~\n",
    "> NameError: name 'math' is not defined\n",
    "> ~~~\n",
    "\n",
    "What has your colleague forgotten to do?"
   ]
  },
  {
   "cell_type": "code",
   "execution_count": null,
   "metadata": {},
   "outputs": [],
   "source": []
  },
  {
   "cell_type": "markdown",
   "metadata": {},
   "source": [
    "## There Are Many Ways To Import Libraries\n",
    "\n",
    "Match the following print statements with the appropriate library calls.\n",
    "\n",
    "> Print commands:\n",
    ">\n",
    "> 1. `print(\"sin(pi/2) =\", sin(pi/2))`\n",
    "> 2. `print(\"sin(pi/2) =\", m.sin(m.pi/2))`\n",
    "> 3. `print(\"sin(pi/2) =\", math.sin(math.pi/2))`\n",
    "\n",
    "> Library calls:\n",
    ">\n",
    "> 1. `from math import sin, pi`\n",
    "> 2. `import math`\n",
    "> 3. `import math as m`\n",
    "> 4. `from math import *`"
   ]
  },
  {
   "cell_type": "markdown",
   "metadata": {},
   "source": [
    "# Lists\n",
    "**Teaching:** 10 minutes  \n",
    "**Exercises:** 10 minutes\n",
    "\n",
    "## Questions:\n",
    "- How can I store multiple values?\n",
    "\n",
    "## Objectives:\n",
    "- Explain why programs need collections of values.\n",
    "- Write programs that create, index, slice, and modify lists through assignment and method calls.\n",
    "\n",
    "## Key points:\n",
    "- A list stores many values in a single structure.\n",
    "- Use an item's index to fetch it from a list.\n",
    "- Lists' values can be replaced by assigning to them.\n",
    "- Appending items to a list lengthens it.\n",
    "- Use `del` to remove items from a list entirely.\n",
    "- The empty list contains no values.\n",
    "- Lists may contain values of different types.\n",
    "- Character strings can be indexed like lists.\n",
    "- Character strings are immutable.\n",
    "- Indexing beyond the end of the collection is an error.\n",
    "\n",
    "## A list stores many values in a single structure.\n",
    "*   Doing calculations with a hundred variables called `pressure_001`, `pressure_002`, etc., is cumbersome.\n",
    "*   Use a *list* to store many values together.\n",
    "    *   Contained within square brackets `[...]`.\n",
    "    *   Values are separated by commas `,`.\n",
    "    *   Lists can be used to create collections of any object type.\n",
    "*   Use `len` to find out how many values are in a list.\n",
    "\n",
    "Try out the following code, which creates a list of pressure values.  \n",
    "\n",
    "> pressures = [0.273, 0.275, 0.277, 0.275, 0.276]  \n",
    "> print('pressures:', pressures)  \n",
    "> print('length:', len(pressures))  "
   ]
  },
  {
   "cell_type": "code",
   "execution_count": null,
   "metadata": {},
   "outputs": [],
   "source": []
  },
  {
   "cell_type": "markdown",
   "metadata": {},
   "source": [
    "## Use an item's index to fetch it from a list.\n",
    "\n",
    "*   Just like we did with strings.\n",
    "\n",
    "> print('zeroth item of pressures:', pressures[0])  \n",
    "> print('fourth item of pressures:', pressures[4])  "
   ]
  },
  {
   "cell_type": "code",
   "execution_count": null,
   "metadata": {},
   "outputs": [],
   "source": []
  },
  {
   "cell_type": "markdown",
   "metadata": {},
   "source": [
    "## Lists' values can be replaced by assigning to them.\n",
    "\n",
    "*   Use an index expression on the left of assignment to replace a value.\n",
    "\n",
    "> pressures[0] = 0.265  \n",
    "> print('pressures is now:', pressures)"
   ]
  },
  {
   "cell_type": "code",
   "execution_count": null,
   "metadata": {},
   "outputs": [],
   "source": []
  },
  {
   "cell_type": "markdown",
   "metadata": {},
   "source": [
    "## Appending items to a list lengthens it.\n",
    "\n",
    "*   Use `list_name.append` to add items to the end of a list.\n",
    "\n",
    "Try out the following code:  \n",
    "\n",
    "> primes = [2, 3, 5]  \n",
    "> print('primes is initially:', primes)  \n",
    "> primes.append(7)  \n",
    "> print('primes has become:', primes)  "
   ]
  },
  {
   "cell_type": "code",
   "execution_count": null,
   "metadata": {},
   "outputs": [],
   "source": []
  },
  {
   "cell_type": "markdown",
   "metadata": {},
   "source": [
    "*   `append` is a *method* the belong to *list* objects.\n",
    "    *   Like a function, but tied to a particular object.\n",
    "*   Use `object_name.method_name` to call methods.\n",
    "    *   Deliberately resembles the way we refer to things in a library.\n",
    "*   We will meet other methods of lists as we go along.\n",
    "    *   Use `help(list)` for a preview.\n",
    "\n",
    "## Lists can be combined using extend\n",
    "The `extend` method is similar to `append`, but it allows you to combine two lists.  \n",
    "\n",
    "For example, try out the following code:  \n",
    "\n",
    "> teen_primes = [11, 13, 17, 19]  \n",
    "> middle_aged_primes = [37, 41, 43, 47]  \n",
    "> print('primes is currently:', primes)  \n",
    "> primes.extend(teen_primes)  \n",
    "> print('primes has now become:', primes)  \n",
    "> primes.append(middle_aged_primes)  \n",
    "> print('primes has finally become:', primes)  "
   ]
  },
  {
   "cell_type": "code",
   "execution_count": null,
   "metadata": {},
   "outputs": [],
   "source": []
  },
  {
   "cell_type": "markdown",
   "metadata": {},
   "source": [
    "## Use `del` to remove items from a list entirely.\n",
    "*   `del list_name[index]` removes an item from a list and shortens the list.\n",
    "*   Not a function or a method, but a statement in the language.\n",
    "\n",
    "Try out the following code:  \n",
    "\n",
    "> primes = [2, 3, 5, 7]  \n",
    "> print('primes before removing last item:', primes)  \n",
    "> del primes[3]  \n",
    "> print('primes after removing last item:', primes)  "
   ]
  },
  {
   "cell_type": "code",
   "execution_count": null,
   "metadata": {},
   "outputs": [],
   "source": []
  },
  {
   "cell_type": "markdown",
   "metadata": {},
   "source": [
    "## The empty list contains no values.\n",
    "*   Use `[]` on its own to represent a list that doesn't contain any values.\n",
    "    *   \"The zero of lists.\"\n",
    "*   Helpful as a starting point for collecting values.\n",
    "\n",
    "> l = [ ]   \n",
    "> l.append('first value')  \n",
    "> l.append('second')"
   ]
  },
  {
   "cell_type": "code",
   "execution_count": null,
   "metadata": {},
   "outputs": [],
   "source": []
  },
  {
   "cell_type": "markdown",
   "metadata": {},
   "source": [
    "## Lists may contain values of different types.\n",
    "*   A single list may contain numbers, strings, and anything else."
   ]
  },
  {
   "cell_type": "code",
   "execution_count": null,
   "metadata": {},
   "outputs": [],
   "source": [
    "goals = [1, 'Create lists.', 2, 'Extract items from lists.', 3, 'Modify lists.']"
   ]
  },
  {
   "cell_type": "markdown",
   "metadata": {},
   "source": [
    "## Character strings can be indexed like lists.\n",
    "*   Get single characters from a character string using indexes in square brackets.\n",
    "\n",
    "> element = 'carbon'  \n",
    "> print('zeroth character:', element[0])  \n",
    "> print('third character:', element[3])  "
   ]
  },
  {
   "cell_type": "code",
   "execution_count": null,
   "metadata": {},
   "outputs": [],
   "source": []
  },
  {
   "cell_type": "markdown",
   "metadata": {},
   "source": [
    "## Character strings are immutable.\n",
    "*   Cannot change the characters in a string after it has been created.\n",
    "    *   *Immutable*: can't be changed after creation.\n",
    "    *   In contrast, lists are *mutable*: they can be modified in place.\n",
    "*   Python considers the string to be a single value with parts, not a collection of values."
   ]
  },
  {
   "cell_type": "code",
   "execution_count": null,
   "metadata": {},
   "outputs": [],
   "source": [
    "element[0] = 'C'"
   ]
  },
  {
   "cell_type": "markdown",
   "metadata": {},
   "source": [
    "*   Lists and character strings are both *collections*.\n",
    "\n",
    "## Indexing beyond the end of the collection is an error.\n",
    "\n",
    "*   Python reports an `IndexError` if we attempt to access a value that doesn't exist.\n",
    "    *   This is a kind of [runtime error]({{ page.root }}/04-built-in/#runtime-error).\n",
    "    *   Cannot be detected as the code is parsed\n",
    "        because the index might be calculated based on data."
   ]
  },
  {
   "cell_type": "code",
   "execution_count": null,
   "metadata": {},
   "outputs": [],
   "source": [
    "print('99th element of element is:', element[99])"
   ]
  },
  {
   "cell_type": "markdown",
   "metadata": {},
   "source": [
    "## Fill in the blanks.\n",
    "Fill in the blanks so that the program below produces the output shown.  \n",
    "\n",
    "> values = ______  \n",
    "> values.______(1)  \n",
    "> values.______(3)  \n",
    "> values.______(5)  \n",
    "> print('first time:', values)  \n",
    "> values = values[____]  \n",
    "> print('second time:', values)  \n",
    "> first time: [1, 3, 5]  \n",
    "> second time: [3, 5]  "
   ]
  },
  {
   "cell_type": "code",
   "execution_count": null,
   "metadata": {},
   "outputs": [],
   "source": []
  },
  {
   "cell_type": "markdown",
   "metadata": {},
   "source": [
    "## Skipping through a list\n",
    "We can write a slice as `low:high:stride`.  \n",
    "What does `stride` do?  \n",
    "Try the following code to see what is printed.    \n",
    "\n",
    "> element = 'fluorine'  \n",
    "> print(element[::2])  \n",
    "> print(element[::-1])  "
   ]
  },
  {
   "cell_type": "code",
   "execution_count": null,
   "metadata": {},
   "outputs": [],
   "source": []
  },
  {
   "cell_type": "markdown",
   "metadata": {},
   "source": [
    "# For Loops\n",
    "**Teaching:** 10 minutes  \n",
    "**Exercises:** 15 minutes\n",
    "\n",
    "## Questions:\n",
    "- How can I make a program to repeat a task?\n",
    "\n",
    "## Objectives:\n",
    "- Explain what for loops are normally used for.\n",
    "- Trace the execution of a simple (unnested) loop and correctly state the values of variables in each iteration.\n",
    "- Write for loops that use the Accumulator pattern to aggregate values.\n",
    "\n",
    "## Key points:\n",
    "- A *for loop* executes commands once for each value in a collection.\n",
    "- A `for` loop is made up of a collection, a loop variable, and a body.\n",
    "- The first line of the `for` loop must end with a colon, and the body must be indented.\n",
    "- Indentation is always meaningful in Python.\n",
    "- Loop variables can be called anything, but it is best to use a meaningful name.\n",
    "- The body of a loop can contain many statements.\n",
    "- Use `range` to iterate over a sequence of numbers.\n",
    "- The Accumulator pattern turns many values into one.\n",
    "\n",
    "## A *for loop* executes commands once for each value in a collection.\n",
    "\n",
    "*   Doing calculations on the values in a list one by one\n",
    "    is as painful as working with `pressure_001`, `pressure_002`, etc.\n",
    "*   A *for loop* tells Python to execute some statements once for each value in a list,\n",
    "    a character string,\n",
    "    or some other collection.\n",
    "*   \"for each thing in this group, do these operations\""
   ]
  },
  {
   "cell_type": "code",
   "execution_count": null,
   "metadata": {},
   "outputs": [],
   "source": [
    "for number in [2, 3, 5]:\n",
    "    print(number)"
   ]
  },
  {
   "cell_type": "markdown",
   "metadata": {},
   "source": [
    "*   This `for` loop is equivalent to:"
   ]
  },
  {
   "cell_type": "code",
   "execution_count": null,
   "metadata": {},
   "outputs": [],
   "source": [
    "print(2)\n",
    "print(3)\n",
    "print(5)"
   ]
  },
  {
   "cell_type": "markdown",
   "metadata": {},
   "source": [
    "## A `for` loop is made up of a collection, a loop variable, and a body."
   ]
  },
  {
   "cell_type": "code",
   "execution_count": null,
   "metadata": {},
   "outputs": [],
   "source": [
    "for number in [2, 3, 5]:\n",
    "    print(number)"
   ]
  },
  {
   "cell_type": "markdown",
   "metadata": {},
   "source": [
    "*   The collection, `[2, 3, 5]`, is what the loop is being run on.\n",
    "*   The body, `print(number)`, specifies what to do for each value in the collection.\n",
    "*   The loop variable, `number`, is what changes for each *iteration* of the loop.\n",
    "    *   The \"current thing\".\n",
    "\n",
    "## The first line of the `for` loop must end with a colon, and the body must be indented.\n",
    "*   The colon at the end of the first line signals the start of a *block* of statements.\n",
    "*   Python uses indentation to show *nesting*.\n",
    "    *   Any consistent indentation is legal, but almost everyone uses four spaces."
   ]
  },
  {
   "cell_type": "code",
   "execution_count": null,
   "metadata": {},
   "outputs": [],
   "source": [
    "for number in [2, 3, 5]:\n",
    "print(number)"
   ]
  },
  {
   "cell_type": "markdown",
   "metadata": {},
   "source": [
    "*   Indentation is always meaningful in Python."
   ]
  },
  {
   "cell_type": "code",
   "execution_count": null,
   "metadata": {},
   "outputs": [],
   "source": [
    "firstName = \"Jon\"\n",
    "  lastName = \"Smith\""
   ]
  },
  {
   "cell_type": "markdown",
   "metadata": {},
   "source": [
    "*   This error can be fixed by removing the extra spaces\n",
    "    at the beginning of the second line.\n",
    "\n",
    "## Loop variables can be called anything.\n",
    "\n",
    "*   As with all variables, loop variables are:\n",
    "    *   Created on demand.\n",
    "    *   Meaningless: their names can be anything at all."
   ]
  },
  {
   "cell_type": "code",
   "execution_count": null,
   "metadata": {},
   "outputs": [],
   "source": [
    "for kitten in [2, 3, 5]:\n",
    "    print(kitten)"
   ]
  },
  {
   "cell_type": "markdown",
   "metadata": {},
   "source": [
    "## The body of a loop can contain many statements.\n",
    "*   Loops should normally only be a few lines long.\n",
    "*   It is hard for human beings to keep larger chunks of code in mind.\n",
    "\n",
    "Try out the following code, which prints the square and cube of the first few primes:\n",
    "\n",
    "> primes = [2, 3, 5]  \n",
    "> for p in primes:  \n",
    ">     squared = p \\** 2  \n",
    ">     cubed = p \\** 3  \n",
    ">     print(p, squared, cubed)  "
   ]
  },
  {
   "cell_type": "code",
   "execution_count": null,
   "metadata": {},
   "outputs": [],
   "source": []
  },
  {
   "cell_type": "markdown",
   "metadata": {},
   "source": [
    "## Use `range` to iterate over a sequence of numbers.\n",
    "\n",
    "*   The built-in function [`range`](https://docs.python.org/3/library/stdtypes.html#range) produces a sequence of numbers.\n",
    "    *   *Not* a list: the numbers are produced to make looping more efficient.\n",
    "*   `range(N)` is the numbers 0..N-1\n",
    "    *   Exactly the legal indices of a list or character string of length N\n",
    "\n",
    "> for number in range(0, 3):  \n",
    ">    print(number)"
   ]
  },
  {
   "cell_type": "code",
   "execution_count": null,
   "metadata": {},
   "outputs": [],
   "source": []
  },
  {
   "cell_type": "markdown",
   "metadata": {},
   "source": [
    "## The Accumulator pattern turns many values into one.\n",
    "*   A common pattern in programs is to:\n",
    "    1.  Initialize an *accumulator* variable to zero, the empty string, or the empty list.\n",
    "    2.  Update the variable with values from a collection.\n",
    "    \n",
    "The following code will sum the first 10 integers.  \n",
    "> total = 0  \n",
    "> for number in range(10):  \n",
    ">   total = total + (number + 1)  \n",
    "> print(total)  "
   ]
  },
  {
   "cell_type": "code",
   "execution_count": null,
   "metadata": {},
   "outputs": [],
   "source": []
  },
  {
   "cell_type": "markdown",
   "metadata": {},
   "source": [
    "*   Read `total = total + (number + 1)` as:\n",
    "    *   Add 1 to the current value of the loop variable `number`.\n",
    "    *   Add that to the current value of the accumulator variable `total`.\n",
    "    *   Assign that to `total`, replacing the current value.\n",
    "*   We have to add `number + 1` because `range` produces 0..9, not 1..10."
   ]
  },
  {
   "cell_type": "markdown",
   "metadata": {},
   "source": [
    "## Practice Accumulating\n",
    "Fill in the blanks in each of the programs below to produce the indicated result.\n",
    "\n",
    "The total length of the strings in the list: [\"red\", \"green\", \"blue\"] should be 12.\n",
    "> total = 0  \n",
    "> for word in [\"red\", \"green\", \"blue\"]:  \n",
    ">     ______ = ______ + len(word)  \n",
    "> print(total)  "
   ]
  },
  {
   "cell_type": "markdown",
   "metadata": {},
   "source": [
    "## Cumulative Sum\n",
    "Reorder and properly indent the lines of code below so that they print a list with the cumulative sum of data. The result should be `[1, 3, 5, 10]`.\n",
    "\n",
    "> cumulative.append(sum)  \n",
    "> for number in data:  \n",
    "> cumulative = [ ]  \n",
    "> sum += number  \n",
    "> sum = 0  \n",
    "> print(cumulative)  \n",
    "> data = [1,2,2,5]  "
   ]
  },
  {
   "cell_type": "code",
   "execution_count": null,
   "metadata": {},
   "outputs": [],
   "source": []
  },
  {
   "cell_type": "markdown",
   "metadata": {},
   "source": [
    "## Final Day 1 Challenge\n",
    "In calculus classes, students learn about infinite sequences and series. One famous series that converges is equal to the natural logarithm of 2.\n",
    "\n",
    "$ln(2)=\\sum\\limits_{n=1}^{\\infty} {\\frac{(-1)^{n+1}}{n}} = 1 - \\frac{1}{2} + \\frac{1}{3} - \\frac{1}{4} + ... \\approx0.69315$\n",
    "\n",
    "Write a Python code to assess the sum of the first 10,000 numbers in this series.  \n",
    "\n",
    "$\\sum\\limits_{n=1}^{10,000} {\\frac{(-1)^{n+1}}{n}} $\n",
    "\n",
    "Compare the result with the actual value. Think about how long it would tak to assess this series with a calculator."
   ]
  },
  {
   "cell_type": "code",
   "execution_count": null,
   "metadata": {},
   "outputs": [],
   "source": []
  },
  {
   "cell_type": "markdown",
   "metadata": {},
   "source": [
    "# Day 02"
   ]
  },
  {
   "cell_type": "markdown",
   "metadata": {},
   "source": [
    "Today we will work through the following notebook. Anywhere you find `___`, replace the three underscores with the correct content."
   ]
  },
  {
   "cell_type": "markdown",
   "metadata": {},
   "source": [
    "# ===========================================================\n",
    "# 01 Lists"
   ]
  },
  {
   "cell_type": "markdown",
   "metadata": {},
   "source": [
    "## Learning Objectives\n",
    "\n",
    "**Question:** How can I store mutliple values?\n",
    "\n",
    "**Objectives:** "
   ]
  },
  {
   "cell_type": "markdown",
   "metadata": {},
   "source": [
    "## A list stores many values in a single structure.\n",
    "\n",
    "*   Doing calculations with a hundred variables called `pressure_001`, `pressure_002`, etc.,\n",
    "    would be at least as slow as doing them by hand.\n",
    "*   Use a *list* to store many values together.\n",
    "    *   Contained within square brackets `[...]`.\n",
    "    *   Values separated by commas `,`.\n",
    "*   Use `len` to find out how many values are in a list."
   ]
  },
  {
   "cell_type": "code",
   "execution_count": null,
   "metadata": {},
   "outputs": [],
   "source": [
    "# 1. Create a list called pressures with the following\n",
    "#    values: 0.273, 0.275, 0.277, 0.275, 0.276\n",
    "pressures = [___]\n",
    "print('pressures:', pressures)\n",
    "\n",
    "# 2. Use the `len()` function to print the length of pressures\n",
    "print('length:', ___)"
   ]
  },
  {
   "cell_type": "markdown",
   "metadata": {},
   "source": [
    "## Use an item's index to fetch it from a list.\n",
    "\n",
    "- You can select an item from a list by using an index just like lists.\n",
    "  - Don't forget zero indexing."
   ]
  },
  {
   "cell_type": "code",
   "execution_count": null,
   "metadata": {},
   "outputs": [],
   "source": [
    "# 1. Print the first (zeroth) item in `pressures`\n",
    "print('zeroth item of pressures:', pressures[____])\n",
    "\n",
    "# 2. Print the last item in `pressures`\n"
   ]
  },
  {
   "cell_type": "markdown",
   "metadata": {},
   "source": [
    "## Replacing Lists' values\n",
    "\n",
    "- You can replace a value in a list by using this same indexing convention."
   ]
  },
  {
   "cell_type": "code",
   "execution_count": null,
   "metadata": {},
   "outputs": [],
   "source": [
    "pressures[0] = 0.265\n",
    "print('pressures is now:', pressures)"
   ]
  },
  {
   "cell_type": "markdown",
   "metadata": {},
   "source": [
    "## Adding items to a list\n",
    "\n",
    "- Use `list_name.append` to add items to the end of a list."
   ]
  },
  {
   "cell_type": "code",
   "execution_count": null,
   "metadata": {},
   "outputs": [],
   "source": [
    "primes = [2, 3, 5]\n",
    "print('primes is initially:', primes)\n",
    "\n",
    "# 1. Append 7 and 9 to the end of `primes`\n",
    "primes.append(___)\n",
    "___\n",
    "print('primes has become:', primes)"
   ]
  },
  {
   "cell_type": "markdown",
   "metadata": {},
   "source": [
    "- `append` is a *method* of lists.\n",
    "  - A *method* is a function that is attached only to the object that owns it.\n",
    "  - Access an objects methods by using `.`.\n",
    "- `extend` is similar to `append`, but it allows you to combine two lists."
   ]
  },
  {
   "cell_type": "markdown",
   "metadata": {},
   "source": [
    "### Exercise: Run the following code and discuss with a neighbor the difference."
   ]
  },
  {
   "cell_type": "code",
   "execution_count": null,
   "metadata": {},
   "outputs": [],
   "source": [
    "teen_primes = [11, 13, 17, 19]\n",
    "middle_aged_primes = [37, 41, 43, 47]\n",
    "print('primes is currently:', primes)\n",
    "primes.extend(teen_primes)\n",
    "print('primes has now become:', primes)\n",
    "primes.append(middle_aged_primes)\n",
    "print('primes has finally become:', primes)"
   ]
  },
  {
   "cell_type": "markdown",
   "metadata": {},
   "source": [
    "### Answer\n",
    "While `extend` maintains the “flat” structure of the list, appending a list to a list makes the result two-dimensional - the last element in `primes` is a list, not an integer."
   ]
  },
  {
   "cell_type": "markdown",
   "metadata": {},
   "source": [
    "## Removing items from a list\n",
    "- `del list_name[index]` removes an item from a list and shortens the list.\n",
    "- `del` is not a function or a method; it's a Python key word."
   ]
  },
  {
   "cell_type": "code",
   "execution_count": null,
   "metadata": {},
   "outputs": [],
   "source": [
    "primes = [2, 3, 5, 7, 9]\n",
    "print('primes before removing last item:', primes)\n",
    "\n",
    "# 1. Delete the last item in `primes`\n",
    "___\n",
    "print('primes after removing last item:', primes)"
   ]
  },
  {
   "cell_type": "markdown",
   "metadata": {},
   "source": [
    "## Empty Lists\n",
    "- Use `[]` on its own to represent a list that doesn't contain any values.\n",
    "- Empty lists are helpful as a starting point for collecting values.\n",
    "\n",
    "## Lists may contain values of different types.\n",
    "- A single list may contain numbers, strings, and anything else."
   ]
  },
  {
   "cell_type": "code",
   "execution_count": null,
   "metadata": {},
   "outputs": [],
   "source": [
    "goals = [1, 'Create lists.', 2, 'Extract items from lists.', 3, 'Modify lists.']"
   ]
  },
  {
   "cell_type": "markdown",
   "metadata": {},
   "source": [
    "## Character strings can be indexed\n",
    "- Get single characters from a character string using indexes in square brackets."
   ]
  },
  {
   "cell_type": "code",
   "execution_count": null,
   "metadata": {},
   "outputs": [],
   "source": [
    "element = 'carbon'\n",
    "print('zeroth character:', element[0])\n",
    "\n",
    "# 1. Find the third character in `element`\n",
    "print('third character:', element[___])"
   ]
  },
  {
   "cell_type": "markdown",
   "metadata": {},
   "source": [
    "## Character strings are immutable...lists are mutable\n",
    "- You cannot change the characters in a string after you create it.\n",
    "- *Immutable* = cannot be changed after creation.\n",
    "- *Mutable* = can be changed after creation."
   ]
  },
  {
   "cell_type": "code",
   "execution_count": null,
   "metadata": {},
   "outputs": [],
   "source": [
    "element[0] = 'C'"
   ]
  },
  {
   "cell_type": "markdown",
   "metadata": {},
   "source": [
    "## Indexing beyond the end of the collection\n",
    "- Lists and character strings are both *collections*.\n",
    "- Python reports an `IndexError` if we attempt to access a value that doesn't exist."
   ]
  },
  {
   "cell_type": "code",
   "execution_count": null,
   "metadata": {},
   "outputs": [],
   "source": [
    "print('99th element of element is:', element[99])"
   ]
  },
  {
   "cell_type": "markdown",
   "metadata": {},
   "source": [
    "## Exercise:\n",
    "\n",
    "What does the following program print?\n",
    "\n",
    "```python\n",
    "element = 'helium'\n",
    "print(element[-1])\n",
    "```\n",
    "\n",
    "1. How does Python interpret a negative index?\n",
    "1. How can you display all elements but the last one without changing the list values?\n",
    "> Hint: You will need to use *slicing*. *Slicing* is done by using `:`. Try the following two code example to see *slicing* in action: `element[2:4]` and `element[1:]`."
   ]
  },
  {
   "cell_type": "code",
   "execution_count": null,
   "metadata": {},
   "outputs": [],
   "source": []
  },
  {
   "cell_type": "markdown",
   "metadata": {},
   "source": [
    "# ===========================================================\n",
    "# 02 Loops"
   ]
  },
  {
   "cell_type": "markdown",
   "metadata": {},
   "source": [
    "**Objectives:**\n",
    "- Explain what for loops are used for.\n",
    "- Trace the execution of a simple (unnested) loop and correctly state the values of variables in each iteration.\n",
    "- Analyze a for loops that uses the Accumulator pattern to aggregate values."
   ]
  },
  {
   "cell_type": "markdown",
   "metadata": {},
   "source": [
    "## A *for loop* executes commands once for each value in a collection.\n",
    "\n",
    "- Doing calculations on the values in a list one by one\n",
    "  is painful and does not help us with productivity\n",
    "- A *for loop* tells Python to execute some statements over and over so\n",
    "  we can to the same task on each item in a list of collect."
   ]
  },
  {
   "cell_type": "code",
   "execution_count": null,
   "metadata": {},
   "outputs": [],
   "source": [
    "for number in [2, 3, 5]:\n",
    "    print(number)"
   ]
  },
  {
   "cell_type": "markdown",
   "metadata": {},
   "source": [
    "- This `for` loop is equivalent to:"
   ]
  },
  {
   "cell_type": "code",
   "execution_count": null,
   "metadata": {},
   "outputs": [],
   "source": [
    "print(2)\n",
    "print(3)\n",
    "print(5)"
   ]
  },
  {
   "cell_type": "markdown",
   "metadata": {},
   "source": [
    "## Anatomy of a `for` loop"
   ]
  },
  {
   "cell_type": "markdown",
   "metadata": {},
   "source": [
    "- The collection: `[2, 3, 5]` (what the loop is run on)\n",
    "- The body: `print(number)` (what the loop should do for each item in the collection)\n",
    "- The loop variable: `number` (what changes hold that *iteration's* item - the \"current thing\")"
   ]
  },
  {
   "cell_type": "code",
   "execution_count": null,
   "metadata": {},
   "outputs": [],
   "source": [
    "# 1. Put the collection back in this loop\n",
    "for number in ___:\n",
    "    print(number)"
   ]
  },
  {
   "cell_type": "markdown",
   "metadata": {},
   "source": [
    "## `for` loop \"punctuation\"\n",
    "\n",
    "- A `for` loop must end with a colon\n",
    "- The colon at the end of the first line signals the start of a *block* of statements.\n",
    "- Blocks must be indented\n",
    "  - Any consistent indentation is legal, but common convention is four spaces"
   ]
  },
  {
   "cell_type": "code",
   "execution_count": null,
   "metadata": {},
   "outputs": [],
   "source": [
    "for number in [2, 3, 5]:\n",
    "print(number)"
   ]
  },
  {
   "cell_type": "markdown",
   "metadata": {},
   "source": [
    "- Python always takes note of white space and indentation."
   ]
  },
  {
   "cell_type": "code",
   "execution_count": null,
   "metadata": {},
   "outputs": [],
   "source": [
    "# 1. Run this cell to see the error\n",
    "# 2. Fix the error by removing the extra\n",
    "#    space and run it again\n",
    "firstName = \"Jon\"\n",
    "  lastName = \"Smith\""
   ]
  },
  {
   "cell_type": "markdown",
   "metadata": {},
   "source": [
    "## Use Descriptive Loop variables\n",
    "- As with all variables, loop variables are:\n",
    "  - Created on demand.\n",
    "  - Meaningless: their names can be anything at all."
   ]
  },
  {
   "cell_type": "code",
   "execution_count": null,
   "metadata": {},
   "outputs": [],
   "source": [
    "# 1. Change the loop variable to a more\n",
    "#    meaningful name\n",
    "for kitten in [2, 3, 5]:\n",
    "    print(kitten)"
   ]
  },
  {
   "cell_type": "markdown",
   "metadata": {},
   "source": [
    "## Keep the Body of a Loop Short\n",
    "\n",
    "- Loops can have as many lines as you want\n",
    "- Try to keep loops short for readable code\n",
    "  - A good guidline is no more than twelve lines"
   ]
  },
  {
   "cell_type": "code",
   "execution_count": null,
   "metadata": {},
   "outputs": [],
   "source": [
    "primes = [2, 3, 5]\n",
    "# 1. Run this loop and look at the error.\n",
    "# 2. Fix the loop so it runs correctly\n",
    "for p in primes\n",
    "    squared = p ** 2\n",
    "    cubed = p ** 3\n",
    "    print(p, squared, cubed)"
   ]
  },
  {
   "cell_type": "markdown",
   "metadata": {},
   "source": [
    "## Use `range` to Loop over a Sequence of Numbers\n",
    "\n",
    "- The built-in function [`range()`](https://docs.python.org/3/library/stdtypes.html#range) produces a sequence of numbers.\n",
    "  - `range()`*does not* a list\n",
    "    - Numbers are generated on demand\n",
    "- `range(N)` is the numbers `0...N-1`\n",
    "  - This matches Python indexing for collections"
   ]
  },
  {
   "cell_type": "code",
   "execution_count": null,
   "metadata": {},
   "outputs": [],
   "source": [
    "print('a range is not a list: range(0, 3)')\n",
    "for number in range(0, 3):\n",
    "    print(number)"
   ]
  },
  {
   "cell_type": "code",
   "execution_count": null,
   "metadata": {},
   "outputs": [],
   "source": [
    "# 1. Run this loop\n",
    "#    Why is the output different than above?\n",
    "print(range(0, 3))"
   ]
  },
  {
   "cell_type": "markdown",
   "metadata": {},
   "source": [
    "## A Common Loop Pattern: The Accumulator Pattern\n",
    "- A common pattern in many programs is as follows:\n",
    "  1. Initialize an *accumulator* variable to zero, the empty string, or the empty list.\n",
    "  2. Update or add values from a collection to the variable."
   ]
  },
  {
   "cell_type": "code",
   "execution_count": null,
   "metadata": {},
   "outputs": [],
   "source": [
    "# Sum the first 10 integers.\n",
    "total = 0\n",
    "for number in range(10):\n",
    "   total = total + (number + 1)\n",
    "print(total)"
   ]
  },
  {
   "cell_type": "markdown",
   "metadata": {},
   "source": [
    "## Exercise\n",
    "1. Break down the steps of the loop. What is happening at each step?\n",
    "2. Why is `total` computed as `total + (number + 1)` and not `total + number`?\n",
    "3. Change the accumulator value `total` to be an empty list. Append each new value\n",
    "   to the list and print the final list."
   ]
  },
  {
   "cell_type": "markdown",
   "metadata": {},
   "source": [
    "**Objectives:**\n",
    "- Explain what for loops are used for.\n",
    "- Trace the execution of a simple (unnested) loop and correctly state the values of variables in each iteration.\n",
    "- Analyze a for loops that uses the Accumulator pattern to aggregate values."
   ]
  },
  {
   "cell_type": "markdown",
   "metadata": {},
   "source": [
    "# ===========================================================\n",
    "# 03 Conditionals\n",
    "*Making decisions with Python*"
   ]
  },
  {
   "cell_type": "markdown",
   "metadata": {},
   "source": [
    "## Objectives\n",
    "- Trace the execution of unnested conditionals and conditionals inside loops."
   ]
  },
  {
   "cell_type": "markdown",
   "metadata": {},
   "source": [
    "## Use `if` Statements to Control Whether or not the Program Executes Code\n",
    "- Structure is similar to a `for` statement:\n",
    "  - First line opens with `if` and ends with a colon\n",
    "  - The body contains one or more statements and is indented"
   ]
  },
  {
   "cell_type": "code",
   "execution_count": null,
   "metadata": {},
   "outputs": [],
   "source": [
    "mass = 3.54\n",
    "if mass > 3.0:\n",
    "    print(mass, 'is large')"
   ]
  },
  {
   "cell_type": "code",
   "execution_count": null,
   "metadata": {},
   "outputs": [],
   "source": [
    "mass = 2.07\n",
    "if mass > 3.0:\n",
    "    print (mass, 'is large')"
   ]
  },
  {
   "cell_type": "markdown",
   "metadata": {},
   "source": [
    "## You Can Nest Structures Within Each Other\n",
    "- Follow Python's indentation rules to make more complicated code\n",
    "- This is useful when we do not know all the items within a collection"
   ]
  },
  {
   "cell_type": "code",
   "execution_count": null,
   "metadata": {},
   "outputs": [],
   "source": [
    "masses = [3.54, 2.07, 9.22, 1.86, 1.71]\n",
    "for m in masses:\n",
    "    # 1. Write an if statement within this\n",
    "    #    loop that prints \"m is large\" for\n",
    "    #    each number, m, that is larger than 3.0.\n",
    "    ___"
   ]
  },
  {
   "cell_type": "markdown",
   "metadata": {},
   "source": [
    "## Use `else` to Execute Code when an `if` condition is *not* True"
   ]
  },
  {
   "cell_type": "code",
   "execution_count": null,
   "metadata": {},
   "outputs": [],
   "source": [
    "masses = [3.54, 2.07, 9.22, 1.86, 1.71]\n",
    "for m in masses:\n",
    "    if m > 3.0:\n",
    "        print(m, 'is large')\n",
    "    else:\n",
    "        print(m, 'is small')"
   ]
  },
  {
   "cell_type": "markdown",
   "metadata": {},
   "source": [
    "## Use `elif` to Create Multiple Tests\n",
    "- `elif` allows us to provide many choices\n",
    "- `elif` is short for \"else if\"\n",
    "- `elif` is always associated with an `if`.\n",
    "- `elif` must come before the `else`."
   ]
  },
  {
   "cell_type": "code",
   "execution_count": null,
   "metadata": {},
   "outputs": [],
   "source": [
    "masses = [3.54, 2.07, 9.22, 1.86, 1.71]\n",
    "for m in masses:\n",
    "    # 1. Print \"m is HUGE\" for each m\n",
    "    #    in the list above\n",
    "    ___\n",
    "    elif m > 3.0:\n",
    "        print(m, 'is large')\n",
    "    else:\n",
    "        print(m, 'is small')"
   ]
  },
  {
   "cell_type": "markdown",
   "metadata": {},
   "source": [
    "## Conditions are Tested Once and in Order"
   ]
  },
  {
   "cell_type": "code",
   "execution_count": null,
   "metadata": {},
   "outputs": [],
   "source": [
    "grade = 85\n",
    "if grade >= 70:\n",
    "    print('grade is C')\n",
    "elif grade >= 80:\n",
    "    print('grade is B')\n",
    "elif grade >= 90:\n",
    "    print('grade is A')"
   ]
  },
  {
   "cell_type": "markdown",
   "metadata": {},
   "source": [
    "- Conditionals *do not* automatically go back and re-evaluate if values change."
   ]
  },
  {
   "cell_type": "code",
   "execution_count": null,
   "metadata": {},
   "outputs": [],
   "source": [
    "velocity = 10.0\n",
    "if velocity > 20.0:\n",
    "    print('moving too fast')\n",
    "else:\n",
    "    print('adjusting velocity')\n",
    "    velocity = 50.0"
   ]
  },
  {
   "cell_type": "markdown",
   "metadata": {},
   "source": [
    "- You can use conditionals in a loop to update the values of variables."
   ]
  },
  {
   "cell_type": "code",
   "execution_count": null,
   "metadata": {},
   "outputs": [],
   "source": [
    "velocity = 10.0\n",
    "for i in range(5): # execute the loop 5 times\n",
    "    print(i, ':', velocity)\n",
    "    if velocity > 20.0:\n",
    "        print('moving too fast')\n",
    "        # 1. Decrease the velociy by subtracting\n",
    "        #    5 from `velocity`'s value.\n",
    "        ___\n",
    "    else:\n",
    "        print('moving too slow')\n",
    "        # 2. Update `velocity` by adding\n",
    "        # 10 to its current value\n",
    "        ___\n",
    "print('final velocity:', velocity)"
   ]
  },
  {
   "cell_type": "markdown",
   "metadata": {},
   "source": [
    "## Exercise\n",
    "\n",
    "1. What does this program print?\n",
    "1. Copy the code into the next box\n",
    "   and change the program so it prints `0.0`\n",
    "\n",
    "```python\n",
    "pressure = 71.9\n",
    "if pressure > 50.0:\n",
    "    pressure = 25.0\n",
    "elif pressure <= 50.0:\n",
    "    pressure = 0.0\n",
    "print(pressure)\n",
    "```"
   ]
  },
  {
   "cell_type": "markdown",
   "metadata": {},
   "source": [
    "## Objectives\n",
    "- Trace the execution of unnested conditionals and conditionals inside loops."
   ]
  },
  {
   "cell_type": "markdown",
   "metadata": {},
   "source": [
    "# ===========================================================\n",
    "# 04 Functions"
   ]
  },
  {
   "cell_type": "markdown",
   "metadata": {},
   "source": [
    "## Objectives\n",
    "- Explain and identify the difference between function definition and function call.\n",
    "- Write a function that takes a fixed number of arguments and produces a single result."
   ]
  },
  {
   "cell_type": "markdown",
   "metadata": {},
   "source": [
    "## Break Programs down into Functions to Make them Easier to Understand\n",
    "- Functions help the programmer encapsulate their code\n",
    "- Easier to read and understand the code\n",
    "  - Others\n",
    "  - You six months later\n",
    "- Functions make the code reusable"
   ]
  },
  {
   "cell_type": "markdown",
   "metadata": {},
   "source": [
    "## Define a Function using `def` with a Name, Parameters, and a Block of Code\n",
    "- Begin the definition of a new function with `def`.\n",
    "- Follow `def` with the name of the function.\n",
    "- After the name, put the *parameters* (inputs) in parentheses.\n",
    "  - Empty parentheses if the function doesn't take any inputs\n",
    "- End the first line with a colon.\n",
    "- The content of the function is an indented block of code."
   ]
  },
  {
   "cell_type": "code",
   "execution_count": null,
   "metadata": {},
   "outputs": [],
   "source": [
    "def print_greeting():\n",
    "    print('Hello!')"
   ]
  },
  {
   "cell_type": "markdown",
   "metadata": {},
   "source": [
    "## Defining a Function Does not run it\n",
    "- This simply creates a new functions within the environment\n",
    "  - Like assigning a value to a variable\n",
    "- You must call the function to execute the code it contains."
   ]
  },
  {
   "cell_type": "code",
   "execution_count": null,
   "metadata": {},
   "outputs": [],
   "source": [
    "print_greeting()"
   ]
  },
  {
   "cell_type": "markdown",
   "metadata": {},
   "source": [
    "## Arguments and Parameters\n",
    "- Functions are most useful when they can operate on different data.\n",
    "- You specify *parameters* within parenthesis when defining a function.\n",
    "- You pass *paramters* to a function when you call it\n",
    "- These paramters match with variables you defined in the function body\n",
    "- Python matches parameters in the order they were defined by default"
   ]
  },
  {
   "cell_type": "code",
   "execution_count": null,
   "metadata": {},
   "outputs": [],
   "source": [
    "# 1. Create a string from the numbers in\n",
    "#    YYYY/MM/DD format and put it in joined\n",
    "# Hint: str(year) turns the year (as a number)\n",
    "#       into year (as a string)\n",
    "def print_date(year, month, day):\n",
    "    joined = ___\n",
    "    print(joined)\n",
    "\n",
    "print_date(1871, 3, 19)"
   ]
  },
  {
   "cell_type": "code",
   "execution_count": null,
   "metadata": {},
   "outputs": [],
   "source": [
    "1871/3/19"
   ]
  },
  {
   "cell_type": "markdown",
   "metadata": {},
   "source": [
    "- If you want to change the ordering of parameters,\n",
    "  you can exlicitly name them when you call the function."
   ]
  },
  {
   "cell_type": "code",
   "execution_count": null,
   "metadata": {},
   "outputs": [],
   "source": [
    "# 1. Call the function using month, day, year ordering\n",
    "print_date(month=3, ___)"
   ]
  },
  {
   "cell_type": "markdown",
   "metadata": {},
   "source": [
    "## Returning Results\n",
    "- Functions return a result using `return`."
   ]
  },
  {
   "cell_type": "code",
   "execution_count": null,
   "metadata": {},
   "outputs": [],
   "source": [
    "def average(values):\n",
    "    if len(values) == 0:\n",
    "        return None\n",
    "    return sum(values) / len(values)"
   ]
  },
  {
   "cell_type": "code",
   "execution_count": null,
   "metadata": {},
   "outputs": [],
   "source": [
    "# 1. Find the average of 1, 3, and 4\n",
    "a = average(___)\n",
    "print('average of actual values:', a)"
   ]
  },
  {
   "cell_type": "code",
   "execution_count": null,
   "metadata": {},
   "outputs": [],
   "source": [
    "print('average of empty list:', average([]))"
   ]
  },
  {
   "cell_type": "markdown",
   "metadata": {},
   "source": [
    "- Every functions returns something.\n",
    "- If there is no value to return, the function returns `None`."
   ]
  },
  {
   "cell_type": "code",
   "execution_count": null,
   "metadata": {},
   "outputs": [],
   "source": [
    "result = print_date(1871, 3, 19)\n",
    "print('result of call is:', result)"
   ]
  },
  {
   "cell_type": "markdown",
   "metadata": {},
   "source": [
    "## Exercise\n",
    "1. Fill in the blanks to create a function that takes a list of numbers as an argument\n",
    "   and returns the first negative value in the list.\n",
    "2. What does your function do if the list is empty?\n",
    "3. Test your function with several different lists to see how well it works.\n",
    "\n",
    "```python\n",
    "def first_negative(values):\n",
    "    for v in ____:\n",
    "        if ____:\n",
    "            return ____\n",
    "```"
   ]
  },
  {
   "cell_type": "markdown",
   "metadata": {},
   "source": [
    "## Objectives\n",
    "- Explain and identify the difference between function definition and function call.\n",
    "- Write a function that takes a fixed number of arguments and produces a single result."
   ]
  },
  {
   "cell_type": "markdown",
   "metadata": {},
   "source": [
    "# ===========================================================\n",
    "# 05 Reading Tabular Data Using Pandas"
   ]
  },
  {
   "cell_type": "markdown",
   "metadata": {},
   "source": [
    "# Objectives\n",
    "- Import the Pandas library.\n",
    "- Use Pandas to load a CSV data set.\n",
    "- Get summary information from a Pandas DataFrame.\n",
    "- Download online data using Pandas."
   ]
  },
  {
   "cell_type": "code",
   "execution_count": null,
   "metadata": {},
   "outputs": [],
   "source": [
    "# Before beginning this lesson, run this cell to download\n",
    "# the figures for this notebook\n",
    "! mkdir img\n",
    "!wget -P img/ https://pandas.pydata.org/pandas-docs/stable/_images/01_table_dataframe.svg\n",
    "!wget -P ./img/ https://pandas.pydata.org/pandas-docs/stable/_images/02_io_readwrite.svg"
   ]
  },
  {
   "cell_type": "markdown",
   "metadata": {},
   "source": [
    "## Pandas\n",
    "- Pandas is a widely-used Python library for statistics and plotting\n",
    "- Its focus is tabular data\n",
    "- It is similar to R in that it uses a structure called a dataframes.\n",
    "- Dataframes can contain multiple data types"
   ]
  },
  {
   "cell_type": "markdown",
   "metadata": {},
   "source": [
    "![Data Frame ](img/01_table_dataframe.svg)\n",
    "\n",
    "Source: <https://pandas.pydata.org/pandas-docs/stable/getting_started/index.html#getting-started>"
   ]
  },
  {
   "cell_type": "markdown",
   "metadata": {},
   "source": [
    "- Pandas can read all kinds of tabular data"
   ]
  },
  {
   "cell_type": "markdown",
   "metadata": {},
   "source": [
    "![Data Processed by Pandas](img/02_io_readwrite.svg)\n",
    "\n",
    "Source: <https://pandas.pydata.org/pandas-docs/stable/getting_started/index.html#getting-started>"
   ]
  },
  {
   "cell_type": "code",
   "execution_count": null,
   "metadata": {},
   "outputs": [],
   "source": [
    "# 1. Run this cell to download the data\n",
    "# 2. Open the downloaded files to get a sense of the data\n",
    "\n",
    "# Downloads a zip file from Carpentries webpage with Gapminder data\n",
    "! wget http://swcarpentry.github.io/python-novice-gapminder/files/python-novice-gapminder-data.zip .\n",
    "# Unzips the file\n",
    "! unzip python-novice-gapminder-data.zip"
   ]
  },
  {
   "cell_type": "markdown",
   "metadata": {},
   "source": [
    "- Load Pandas with `import pandas as pd`"
   ]
  },
  {
   "cell_type": "code",
   "execution_count": null,
   "metadata": {},
   "outputs": [],
   "source": [
    "#1. Import the pandas library\n",
    "___\n",
    "\n",
    "# 1. Use `read_csv` to read the gapminder data\n",
    "data = pd.read_('data/gapminder_gdp_oceania.csv')\n",
    "print(data)"
   ]
  },
  {
   "cell_type": "markdown",
   "metadata": {},
   "source": [
    "- The columns in a dataframe are the observed variables, and the rows are the observations.\n",
    "- Pandas uses backslash `\\` to show wrapped lines when output is too wide to fit the screen."
   ]
  },
  {
   "cell_type": "markdown",
   "metadata": {},
   "source": [
    "## `index_col`\n",
    "- Use `index_col` to specify that a column's values should be used as row identifiers."
   ]
  },
  {
   "cell_type": "code",
   "execution_count": null,
   "metadata": {},
   "outputs": [],
   "source": [
    "data = pd.read_csv('data/gapminder_gdp_oceania.csv', index_col='country')\n",
    "print(data)"
   ]
  },
  {
   "cell_type": "markdown",
   "metadata": {},
   "source": [
    "- Use `DataFrame.info` to find out more about a dataframe."
   ]
  },
  {
   "cell_type": "code",
   "execution_count": null,
   "metadata": {},
   "outputs": [],
   "source": [
    "# `info()` is a method of data\n",
    "data.info()"
   ]
  },
  {
   "cell_type": "markdown",
   "metadata": {},
   "source": [
    "*   This is a `DataFrame`\n",
    "*   Two rows named `'Australia'` and `'New Zealand'`\n",
    "*   Twelve columns, each of which has two actual 64-bit floating point values.\n",
    "*   Uses 208 bytes of memory."
   ]
  },
  {
   "cell_type": "markdown",
   "metadata": {},
   "source": [
    "## Attributes\n",
    "- The `DataFrame.columns` attribute stores information about the dataframe's columns.\n",
    "- Note that this is a varaible, *not* a method.\n",
    "  - It doesn't have `()`\n",
    "*   Called a *member variable*, just a *member*, or an *attribute*."
   ]
  },
  {
   "cell_type": "code",
   "execution_count": null,
   "metadata": {},
   "outputs": [],
   "source": [
    "print(data.columns)"
   ]
  },
  {
   "cell_type": "markdown",
   "metadata": {},
   "source": [
    "- Use `DataFrame.T` to transpose a dataframe.\n",
    "\n",
    "*   Sometimes want to treat columns as rows and vice versa.\n",
    "*   Transpose doesn't copy the data, just changes the program's view of it."
   ]
  },
  {
   "cell_type": "code",
   "execution_count": null,
   "metadata": {},
   "outputs": [],
   "source": [
    "print(data.T)"
   ]
  },
  {
   "cell_type": "markdown",
   "metadata": {},
   "source": [
    "## Summary Statistics\n",
    "- Use `DataFrame.describe` to get summary statistics about data.\n",
    "\n",
    "- DataFrame.describe() gets the summary statistics of only the columns that have numerical data. \n",
    "  All other columns are ignored."
   ]
  },
  {
   "cell_type": "code",
   "execution_count": null,
   "metadata": {},
   "outputs": [],
   "source": [
    "# 1. Print the summary statistics for our dataframe\n",
    "print(___)"
   ]
  },
  {
   "cell_type": "markdown",
   "metadata": {},
   "source": [
    "# Exercise\n",
    "1. `read_csv()` can download data directly from a webpage.\n",
    "   Download a dataset called the Titanic Data Set by passing\n",
    "   the following URL to `read_csv()` instead of a file path.\n",
    "   Put the new dataframe in a variable called `titanic`.\n",
    "2. Use `titanic.head()` to have a look at the new dataframe.\n",
    "\n",
    "**Data URL:**\n",
    "<https://github.com/pandas-dev/pandas/raw/master/doc/data/titanic.csv>"
   ]
  },
  {
   "cell_type": "markdown",
   "metadata": {},
   "source": [
    "# Objectives\n",
    "- Import the Pandas library.\n",
    "- Use Pandas to load a CSV data set.\n",
    "- Get summary information from a Pandas DataFrame.\n",
    "- Download online data using Pandas."
   ]
  },
  {
   "cell_type": "markdown",
   "metadata": {},
   "source": [
    "# ===========================================================\n",
    "# 06 Working with Data"
   ]
  },
  {
   "cell_type": "markdown",
   "metadata": {},
   "source": [
    "## Objectives\n",
    "- Select individual values from a Pandas dataframe.\n",
    "- Select entire rows or entire columns from a dataframe.\n",
    "- Select a subset of both rows and columns from a dataframe in a single operation.\n",
    "- Filter data based on values in a dataframe.\n",
    "- Apply a split-apply-combine workflow to a dataframe.\n",
    "- Convert a dataframe between wide and long data formats."
   ]
  },
  {
   "cell_type": "code",
   "execution_count": null,
   "metadata": {},
   "outputs": [],
   "source": [
    "# Before reading this lesson, run this code to download\n",
    "# the notebook figures\n",
    "!mkdir img\n",
    "!wget -P img/ https://pandas.pydata.org/pandas-docs/stable/_images/06_groupby1.svg"
   ]
  },
  {
   "cell_type": "markdown",
   "metadata": {},
   "source": [
    "## Some Notes on DataFrames\n",
    "\n",
    "- A DataFrame is a collection of Series\n",
    "  - The DataFrame is the way Pandas represents a table, and Series is the data-structure\n",
    "    Pandas use to represent a column.\n",
    "- Pandas is built on top of the Numpy library\n",
    "    - We get to use those function too\n",
    "- Benefits of using Pandas:\n",
    "  - Interface to access individual records\n",
    "  - Proper handling of missing values\n",
    "  - Relational-databases operations between DataFrames"
   ]
  },
  {
   "cell_type": "markdown",
   "metadata": {},
   "source": [
    "## Selecting values\n",
    "- Use `DataFrame.iloc[ROW, COLUMN]` to select values by their numerical position"
   ]
  },
  {
   "cell_type": "code",
   "execution_count": null,
   "metadata": {},
   "outputs": [],
   "source": [
    "import pandas as pd\n",
    "data = pd.read_csv('data/gapminder_gdp_europe.csv', index_col='country')\n",
    "print(data.iloc[0, 0])"
   ]
  },
  {
   "cell_type": "markdown",
   "metadata": {},
   "source": [
    "- Use `DataFrame.loc[..., ...]` to select values by their row/column labels."
   ]
  },
  {
   "cell_type": "code",
   "execution_count": null,
   "metadata": {},
   "outputs": [],
   "source": [
    "data = pd.read_csv('data/gapminder_gdp_europe.csv', index_col='country')\n",
    "print(data.loc[\"Albania\", \"gdpPercap_1952\"])"
   ]
  },
  {
   "cell_type": "markdown",
   "metadata": {},
   "source": [
    "- Use `:` on its own to mean all columns or all rows.\n",
    "  - This follows Python's slicing notation."
   ]
  },
  {
   "cell_type": "code",
   "execution_count": null,
   "metadata": {},
   "outputs": [],
   "source": [
    "print(data.loc[\"Albania\", :])"
   ]
  },
  {
   "cell_type": "markdown",
   "metadata": {},
   "source": [
    "- We get the same result printing `data.loc[\"Albania\"]` (without a second index)."
   ]
  },
  {
   "cell_type": "code",
   "execution_count": null,
   "metadata": {},
   "outputs": [],
   "source": [
    "print(data.loc[:, \"gdpPercap_1952\"])"
   ]
  },
  {
   "cell_type": "markdown",
   "metadata": {},
   "source": [
    "- Would get the same result printing `data[\"gdpPercap_1952\"]`\n",
    "- Slicing works with labels as well as numerical positions"
   ]
  },
  {
   "cell_type": "code",
   "execution_count": null,
   "metadata": {},
   "outputs": [],
   "source": [
    "# 1. Use slicing to select GDP data from Italy to Poland\n",
    "#    and from 1962 to 1972.j\n",
    "print(data.loc[___])"
   ]
  },
  {
   "cell_type": "markdown",
   "metadata": {},
   "source": [
    "- Slicing using `loc` is inclusive at both ends\n",
    "  - This differs from slicing using `iloc`  "
   ]
  },
  {
   "cell_type": "markdown",
   "metadata": {},
   "source": [
    "## Putting it Together\n",
    "- The result from slicing can be used in further operations."
   ]
  },
  {
   "cell_type": "code",
   "execution_count": null,
   "metadata": {},
   "outputs": [],
   "source": [
    "# 1. Find the maximum GDP for the above countries and above years\n",
    "print(data.loc['Italy':'Poland', 'gdpPercap_1962':'gdpPercap_1972'].max())"
   ]
  },
  {
   "cell_type": "code",
   "execution_count": null,
   "metadata": {},
   "outputs": [],
   "source": [
    "# 1. Find the minimum GDP for the above countries and above years\n",
    "print(data.loc['Italy':'Poland', 'gdpPercap_1962':'gdpPercap_1972']___)"
   ]
  },
  {
   "cell_type": "markdown",
   "metadata": {},
   "source": [
    "## Filtering Data\n",
    "- Use comparisons to select data based on values.\n",
    "- Comparisons are applied element by element.\n",
    "- They return a similarly-shaped dataframe of `True` and `False` values."
   ]
  },
  {
   "cell_type": "code",
   "execution_count": null,
   "metadata": {},
   "outputs": [],
   "source": [
    "# Use a subset of data to keep output readable.\n",
    "subset = data.loc['Italy':'Poland', 'gdpPercap_1962':'gdpPercap_1972']\n",
    "print('Subset of data:\\n', subset)\n",
    "\n",
    "# Which values were greater than 10000 ?\n",
    "print('\\nWhere are values large?\\n', subset > 10000)"
   ]
  },
  {
   "cell_type": "markdown",
   "metadata": {},
   "source": [
    "- A dataframe full of Booleans is sometimes called a *mask* because of how it can be used."
   ]
  },
  {
   "cell_type": "code",
   "execution_count": null,
   "metadata": {},
   "outputs": [],
   "source": [
    "mask = subset > 10000\n",
    "print(subset[mask])"
   ]
  },
  {
   "cell_type": "markdown",
   "metadata": {},
   "source": [
    "- NaNs (Not a Number) are ignored by operations like max, min, average, etc."
   ]
  },
  {
   "cell_type": "code",
   "execution_count": null,
   "metadata": {},
   "outputs": [],
   "source": [
    "print(subset[subset > 10000].describe())"
   ]
  },
  {
   "cell_type": "markdown",
   "metadata": {},
   "source": [
    "## Exercise: Split-Apply-Combine"
   ]
  },
  {
   "cell_type": "markdown",
   "metadata": {},
   "source": [
    "### Group By"
   ]
  },
  {
   "cell_type": "markdown",
   "metadata": {},
   "source": [
    "- A common data-wrangling technique is the split-apply-combine technique\n",
    "![Split-Apply-Combine](img/06_groupby1.svg)\n",
    "\n",
    "Source: <https://pandas.pydata.org/pandas-docs/stable/getting_started/intro_tutorials/06_calculate_statistics.html#min-tut-06-stats>"
   ]
  },
  {
   "cell_type": "markdown",
   "metadata": {},
   "source": [
    "## GDP of European Countries\n",
    "We will practice this technique with the Gapminder data. Suppose we want to have a clearer view on how the European countries split themselves according to their GDP.\n",
    "\n",
    "1.  We will split the countries in two groups during the years surveyed,\n",
    "    those who presented a GDP *higher* than the European average and those with a *lower* GDP.\n",
    "2.  We then estimate a *wealthy score* based on the historical (from 1962 to 2007) values,\n",
    "    where we count how many times a country participated in the groups of *lower* or *higher* GDP."
   ]
  },
  {
   "cell_type": "markdown",
   "metadata": {},
   "source": [
    "**Part I**\n",
    "\n",
    "Type the following code and run it.\n",
    "\n",
    "```python\n",
    "wealth_score = data[data > data.mean()].count(axis=1) / len(data.columns)\n",
    "wealth_score\n",
    "```"
   ]
  },
  {
   "cell_type": "code",
   "execution_count": null,
   "metadata": {},
   "outputs": [],
   "source": []
  },
  {
   "cell_type": "markdown",
   "metadata": {},
   "source": [
    "- We filtered all the countris that were above the mean GDP.\n",
    "- We then counted all the non-NaN values.\n",
    "  - Our filter used NaN's for years a country was equal to or less than the mean.\n",
    "- `axis` tells `count()` whether or not to count across rows or columns.\n",
    "  - `0` means count non-NaN's in each column\n",
    "  - `1` means count non-NaN's in each row (what we did)\n",
    "  - I like to think about what is being collapsed\n",
    "- Finally, we devided the counts by the number of years (columns) to get a percentage score,"
   ]
  },
  {
   "cell_type": "markdown",
   "metadata": {},
   "source": [
    "**Part II**\n",
    "\n",
    "Use `groupby()` to sum the financial contribution of wealthy countries in different wealth-score categories across the years surveyed. Type the following code and run it.\n",
    "\n",
    "```python\n",
    "data.groupby(wealth_score).sum()\n",
    "```"
   ]
  },
  {
   "cell_type": "code",
   "execution_count": null,
   "metadata": {},
   "outputs": [],
   "source": []
  },
  {
   "cell_type": "markdown",
   "metadata": {},
   "source": [
    "## Tidy Data\n",
    "- [Tidy Data](http://vita.had.co.nz/papers/tidy-data.pdf) principles are guidlines for organizing data that makes analysis on a computer more efficient and effective.\n",
    "- Keep the following principles in mind when organizing your data:\n",
    "  - Each variable has its own column\n",
    "  - Each observation has its own row\n",
    "  - Each value must have its own cell (atomic values)\n",
    "  - Each type of observational unit forms a table"
   ]
  },
  {
   "cell_type": "markdown",
   "metadata": {},
   "source": [
    "## Long and Wide Formats\n",
    "- Pandas has several functions that help us rearrange our data when we need to change its structure.\n",
    "  - This frequently occurs when we need to plot our data.\n",
    "- When data is in *wide format*, each variable has its own column.\n",
    "  - Our data is currently in *wide format*"
   ]
  },
  {
   "cell_type": "code",
   "execution_count": null,
   "metadata": {},
   "outputs": [],
   "source": [
    "data.head()"
   ]
  },
  {
   "cell_type": "markdown",
   "metadata": {},
   "source": [
    "- When data is in *long format*, multiple columns\n",
    "  are melted into a single columns and entries are repeated.\n",
    "- To change data to *long format*, `melt()` the columns"
   ]
  },
  {
   "cell_type": "code",
   "execution_count": null,
   "metadata": {},
   "outputs": [],
   "source": [
    "# Country is not currently a variable,\n",
    "# but an index\n",
    "long = data.reset_index().melt(id_vars='country', var_name='GDP_Year').sort_values(by='country')\n",
    "long"
   ]
  },
  {
   "cell_type": "markdown",
   "metadata": {},
   "source": [
    "- `pivot()` the data to go back to *wide format*"
   ]
  },
  {
   "cell_type": "code",
   "execution_count": null,
   "metadata": {},
   "outputs": [],
   "source": [
    "long.pivot(index='country', columns='GDP_Year')"
   ]
  },
  {
   "cell_type": "markdown",
   "metadata": {},
   "source": [
    "## Objectives\n",
    "- Select individual values from a Pandas dataframe.\n",
    "- Select entire rows or entire columns from a dataframe.\n",
    "- Select a subset of both rows and columns from a dataframe in a single operation.\n",
    "- Filter data based on values in a dataframe.\n",
    "- Apply a split-apply-combine workflow to a dataframe.\n",
    "- Convert a dataframe between wide and long data formats."
   ]
  },
  {
   "cell_type": "markdown",
   "metadata": {},
   "source": [
    "# ===========================================================\n",
    "# 09 Plotting"
   ]
  },
  {
   "cell_type": "markdown",
   "metadata": {},
   "source": [
    "# Objectives\n",
    "- Create a time series plot showing a single data set.\n",
    "- Create a scatter plot showing relationship between two data sets."
   ]
  },
  {
   "cell_type": "markdown",
   "metadata": {},
   "source": [
    "## Matplotlib\n",
    "- [`matplotlib`](https://matplotlib.org/) is a widely used scientific plotting library in Python.\n",
    "- Pandas is built on top of Matplotlib\n",
    "- A commonly used sub-library is called [`matplotlib.pyplot`](https://matplotlib.org/api/pyplot_api.html).\n",
    "- The Jupyter Notebook will render plots inline if we ask it to using a \"magic\" command."
   ]
  },
  {
   "cell_type": "code",
   "execution_count": null,
   "metadata": {},
   "outputs": [],
   "source": [
    "%matplotlib inline\n",
    "import matplotlib.pyplot as plt"
   ]
  },
  {
   "cell_type": "markdown",
   "metadata": {},
   "source": [
    "## Matplotlib usage\n",
    "- Here is the general outline for creating a plot\n",
    "  using Matplotlib"
   ]
  },
  {
   "cell_type": "code",
   "execution_count": null,
   "metadata": {},
   "outputs": [],
   "source": [
    "time = [0, 1, 2, 3]\n",
    "position = [0, 100, 200, 300]\n",
    "\n",
    "plt.plot(time, position)\n",
    "plt.xlabel('Time (hr)')\n",
    "plt.ylabel('Position (km)');  # `;` is not Python. This makes the notebook surpress extra messages from Matplotlib"
   ]
  },
  {
   "cell_type": "markdown",
   "metadata": {},
   "source": [
    "## Plotting with Pandas\n",
    "- Since Pandas is built on matplotlib, we can plot data directly from a dataframe.\n",
    "- Before plotting, we convert the column headings from a `string` to `integer` data type, since they represent numerical values"
   ]
  },
  {
   "cell_type": "code",
   "execution_count": null,
   "metadata": {},
   "outputs": [],
   "source": [
    "import pandas as pd\n",
    "\n",
    "data = pd.read_csv('data/gapminder_gdp_oceania.csv', index_col='country')\n",
    "\n",
    "# Extract year from last 4 characters of each column name\n",
    "# The current column names are structured as 'gdpPercap_(year)', \n",
    "# so we want to keep the (year) part only for clarity when plotting GDP vs. years\n",
    "# To do this we use strip(), which removes from the string the characters stated in the argument\n",
    "# This method works on strings, so we call str before strip()\n",
    "\n",
    "years = data.columns.str.strip('gdpPercap_')\n",
    "\n",
    "# Convert year values to integers, saving results back to dataframe\n",
    "\n",
    "data.columns = years.astype(int)\n",
    "\n",
    "# Look at it now\n",
    "\n",
    "data"
   ]
  },
  {
   "cell_type": "code",
   "execution_count": null,
   "metadata": {},
   "outputs": [],
   "source": [
    "# Plot the data for Australia\n",
    "data.loc['Australia'].plot();"
   ]
  },
  {
   "cell_type": "code",
   "execution_count": null,
   "metadata": {},
   "outputs": [],
   "source": [
    "# 1. Plot the data for New Zealand\n",
    "__"
   ]
  },
  {
   "cell_type": "markdown",
   "metadata": {},
   "source": [
    "# Tranposing for a Plot\n",
    "\n",
    "- By default, dataframes plot with the rows as the X axis.\n",
    "- We can transpose the data in order to plot multiple series."
   ]
  },
  {
   "cell_type": "code",
   "execution_count": null,
   "metadata": {},
   "outputs": [],
   "source": [
    "data.T.plot()\n",
    "plt.ylabel('GDP per capita')"
   ]
  },
  {
   "cell_type": "markdown",
   "metadata": {},
   "source": [
    "## Plot Types\n",
    "- Many styles of plot are available."
   ]
  },
  {
   "cell_type": "code",
   "execution_count": null,
   "metadata": {},
   "outputs": [],
   "source": [
    "plt.style.use('ggplot')\n",
    "data.T.plot(kind='bar')\n",
    "plt.ylabel('GDP per capita');"
   ]
  },
  {
   "cell_type": "markdown",
   "metadata": {},
   "source": [
    "- `.plot` has many attributes, including all the plot types it can produce"
   ]
  },
  {
   "cell_type": "code",
   "execution_count": null,
   "metadata": {},
   "outputs": [],
   "source": [
    "# List available plots\n",
    "[method_name for method_name in dir(data.plot) if not method_name.startswith(\"_\")]"
   ]
  },
  {
   "cell_type": "markdown",
   "metadata": {},
   "source": [
    "- Let's make a scatter plot of Australia's GDP against New Zealand's GDP."
   ]
  },
  {
   "cell_type": "code",
   "execution_count": null,
   "metadata": {},
   "outputs": [],
   "source": [
    "data.T.plot.scatter(x = ___, y = ___);"
   ]
  },
  {
   "cell_type": "markdown",
   "metadata": {},
   "source": [
    "# Objectives\n",
    "- Create a time series plot showing a single data set.\n",
    "- Create a scatter plot showing relationship between two data sets."
   ]
  }
 ],
 "metadata": {
  "kernelspec": {
   "display_name": "Python 3",
   "language": "python",
   "name": "python3"
  },
  "language_info": {
   "codemirror_mode": {
    "name": "ipython",
    "version": 3
   },
   "file_extension": ".py",
   "mimetype": "text/x-python",
   "name": "python",
   "nbconvert_exporter": "python",
   "pygments_lexer": "ipython3",
   "version": "3.7.3"
  }
 },
 "nbformat": 4,
 "nbformat_minor": 2
}
