{
 "cells": [
  {
   "cell_type": "markdown",
   "metadata": {},
   "source": [
    "# Creating a Time Series Using COVID-19 Data"
   ]
  },
  {
   "cell_type": "code",
   "execution_count": 2,
   "metadata": {},
   "outputs": [],
   "source": [
    "import pandas as pd\n",
    "import matplotlib as pyplot"
   ]
  },
  {
   "cell_type": "code",
   "execution_count": 4,
   "metadata": {},
   "outputs": [],
   "source": [
    "covid_ok = pd.read_csv('https://storage.googleapis.com/ok-covid-gcs-public-download/oklahoma_cases_county.csv')"
   ]
  },
  {
   "cell_type": "code",
   "execution_count": 7,
   "metadata": {},
   "outputs": [
    {
     "data": {
      "text/plain": [
       "<bound method DataFrame.info of         County  Cases  Deaths  Recovered  ReportDate\n",
       "0     OKLAHOMA    945      43        685  2020-05-10\n",
       "1        TULSA    700      36        515  2020-05-10\n",
       "2    CLEVELAND    456      32        364  2020-05-10\n",
       "3        TEXAS    403       3        171  2020-05-10\n",
       "4   WASHINGTON    296      29        220  2020-05-10\n",
       "..         ...    ...     ...        ...         ...\n",
       "66       ATOKA      1       0          1  2020-05-10\n",
       "67    CIMARRON      1       0          1  2020-05-10\n",
       "68  PUSHMATAHA      1       0          1  2020-05-10\n",
       "69    WOODWARD      1       0          1  2020-05-10\n",
       "70    OKFUSKEE      1       0          1  2020-05-10\n",
       "\n",
       "[71 rows x 5 columns]>"
      ]
     },
     "execution_count": 7,
     "metadata": {},
     "output_type": "execute_result"
    }
   ],
   "source": [
    "covid_ok.info"
   ]
  },
  {
   "cell_type": "code",
   "execution_count": null,
   "metadata": {},
   "outputs": [],
   "source": []
  }
 ],
 "metadata": {
  "kernelspec": {
   "display_name": "Python 3",
   "language": "python",
   "name": "python3"
  },
  "language_info": {
   "codemirror_mode": {
    "name": "ipython",
    "version": 3
   },
   "file_extension": ".py",
   "mimetype": "text/x-python",
   "name": "python",
   "nbconvert_exporter": "python",
   "pygments_lexer": "ipython3",
   "version": "3.7.6"
  }
 },
 "nbformat": 4,
 "nbformat_minor": 4
}
