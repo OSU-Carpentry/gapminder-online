{
 "cells": [
  {
   "cell_type": "markdown",
   "metadata": {},
   "source": [
    "# Reading Tabular Data Using Pandas"
   ]
  },
  {
   "cell_type": "markdown",
   "metadata": {},
   "source": [
    "# Objectives\n",
    "- Import the Pandas library.\n",
    "- Use Pandas to load a CSV data set.\n",
    "- Get summary information from a Pandas DataFrame.\n",
    "- Download online data using Pandas."
   ]
  },
  {
   "cell_type": "code",
   "execution_count": 2,
   "metadata": {},
   "outputs": [
    {
     "name": "stdout",
     "output_type": "stream",
     "text": [
      "mkdir: cannot create directory ‘img’: File exists\n",
      "--2020-05-10 08:51:27--  https://pandas.pydata.org/pandas-docs/stable/_images/01_table_dataframe.svg\n",
      "Resolving pandas.pydata.org (pandas.pydata.org)... 104.26.1.204, 104.26.0.204, 2606:4700:20::681a:1cc, ...\n",
      "Connecting to pandas.pydata.org (pandas.pydata.org)|104.26.1.204|:443... connected.\n",
      "HTTP request sent, awaiting response... 200 OK\n",
      "Length: 14271 (14K) [image/svg+xml]\n",
      "Saving to: ‘img/01_table_dataframe.svg’\n",
      "\n",
      "01_table_dataframe. 100%[===================>]  13.94K  --.-KB/s    in 0.002s  \n",
      "\n",
      "2020-05-10 08:51:27 (5.87 MB/s) - ‘img/01_table_dataframe.svg’ saved [14271/14271]\n",
      "\n",
      "--2020-05-10 08:51:27--  https://pandas.pydata.org/pandas-docs/stable/_images/02_io_readwrite.svg\n",
      "Resolving pandas.pydata.org (pandas.pydata.org)... 104.26.1.204, 104.26.0.204, 2606:4700:20::681a:1cc, ...\n",
      "Connecting to pandas.pydata.org (pandas.pydata.org)|104.26.1.204|:443... connected.\n",
      "HTTP request sent, awaiting response... 200 OK\n",
      "Length: 268769 (262K) [image/svg+xml]\n",
      "Saving to: ‘./img/02_io_readwrite.svg’\n",
      "\n",
      "02_io_readwrite.svg 100%[===================>] 262.47K   944KB/s    in 0.3s    \n",
      "\n",
      "2020-05-10 08:51:28 (944 KB/s) - ‘./img/02_io_readwrite.svg’ saved [268769/268769]\n",
      "\n"
     ]
    }
   ],
   "source": [
    "# Before beginning this lesson, run this cell to download\n",
    "# the figures for this notebook\n",
    "! mkdir img\n",
    "!wget -P img/ https://pandas.pydata.org/pandas-docs/stable/_images/01_table_dataframe.svg\n",
    "!wget -P ./img/ https://pandas.pydata.org/pandas-docs/stable/_images/02_io_readwrite.svg"
   ]
  },
  {
   "cell_type": "markdown",
   "metadata": {},
   "source": [
    "## Pandas\n",
    "- Pandas is a widely-used Python library for statistics and plotting\n",
    "- Its focus is tabular data\n",
    "- It is similar to R in that it uses a structure called a dataframes.\n",
    "- Dataframes can contain multiple data types"
   ]
  },
  {
   "cell_type": "markdown",
   "metadata": {},
   "source": [
    "![Data Frame ](img/01_table_dataframe.svg)\n",
    "\n",
    "Source: <https://pandas.pydata.org/pandas-docs/stable/getting_started/index.html#getting-started>"
   ]
  },
  {
   "cell_type": "markdown",
   "metadata": {},
   "source": [
    "- Pandas can read all kinds of tabular data"
   ]
  },
  {
   "cell_type": "markdown",
   "metadata": {},
   "source": [
    "![Data Processed by Pandas](img/02_io_readwrite.svg)\n",
    "\n",
    "Source: <https://pandas.pydata.org/pandas-docs/stable/getting_started/index.html#getting-started>"
   ]
  },
  {
   "cell_type": "code",
   "execution_count": 5,
   "metadata": {},
   "outputs": [
    {
     "name": "stdout",
     "output_type": "stream",
     "text": [
      "--2020-05-10 08:16:11--  http://swcarpentry.github.io/python-novice-gapminder/files/python-novice-gapminder-data.zip\n",
      "Resolving swcarpentry.github.io (swcarpentry.github.io)... 185.199.108.153, 185.199.111.153, 185.199.110.153, ...\n",
      "Connecting to swcarpentry.github.io (swcarpentry.github.io)|185.199.108.153|:80... connected.\n",
      "HTTP request sent, awaiting response... 200 OK\n",
      "Length: 38471 (38K) [application/zip]\n",
      "Saving to: ‘python-novice-gapminder-data.zip’\n",
      "\n",
      "python-novice-gapmi 100%[===================>]  37.57K  --.-KB/s    in 0.06s   \n",
      "\n",
      "2020-05-10 08:16:11 (615 KB/s) - ‘python-novice-gapminder-data.zip’ saved [38471/38471]\n",
      "\n",
      "--2020-05-10 08:16:11--  http://./\n",
      "Resolving . (.)... failed: Temporary failure in name resolution.\n",
      "wget: unable to resolve host address ‘.’\n",
      "FINISHED --2020-05-10 08:16:11--\n",
      "Total wall clock time: 0.2s\n",
      "Downloaded: 1 files, 38K in 0.06s (615 KB/s)\n",
      "Archive:  python-novice-gapminder-data.zip\n",
      "  inflating: data/gapminder_all.csv  \n",
      "  inflating: data/gapminder_gdp_africa.csv  \n",
      "  inflating: data/gapminder_gdp_americas.csv  \n",
      "  inflating: data/gapminder_gdp_asia.csv  \n",
      "  inflating: data/gapminder_gdp_europe.csv  \n",
      "  inflating: data/gapminder_gdp_oceania.csv  \n"
     ]
    }
   ],
   "source": [
    "# 1. Run this cell to download the data\n",
    "# 2. Open the downloaded files to get a sense of the data\n",
    "\n",
    "# Downloads a zip file from Carpentries webpage with Gapminder data\n",
    "! wget http://swcarpentry.github.io/python-novice-gapminder/files/python-novice-gapminder-data.zip .\n",
    "# Unzips the file\n",
    "! unzip python-novice-gapminder-data.zip"
   ]
  },
  {
   "cell_type": "markdown",
   "metadata": {},
   "source": [
    "- Load Pandas with `import pandas as pd`"
   ]
  },
  {
   "cell_type": "code",
   "execution_count": null,
   "metadata": {},
   "outputs": [],
   "source": [
    "#1. Import the pandas library\n",
    "___\n",
    "\n",
    "# 1. Use `read_csv` to read the gapminder data\n",
    "data = pd.read_('data/gapminder_gdp_oceania.csv')\n",
    "print(data)"
   ]
  },
  {
   "cell_type": "markdown",
   "metadata": {},
   "source": [
    "- The columns in a dataframe are the observed variables, and the rows are the observations.\n",
    "- Pandas uses backslash `\\` to show wrapped lines when output is too wide to fit the screen."
   ]
  },
  {
   "cell_type": "markdown",
   "metadata": {},
   "source": [
    "## `index_col`\n",
    "- Use `index_col` to specify that a column's values should be used as row identifiers."
   ]
  },
  {
   "cell_type": "code",
   "execution_count": null,
   "metadata": {},
   "outputs": [],
   "source": [
    "data = pd.read_csv('data/gapminder_gdp_oceania.csv', index_col='country')\n",
    "print(data)"
   ]
  },
  {
   "cell_type": "markdown",
   "metadata": {},
   "source": [
    "- Use `DataFrame.info` to find out more about a dataframe."
   ]
  },
  {
   "cell_type": "code",
   "execution_count": 6,
   "metadata": {},
   "outputs": [
    {
     "ename": "NameError",
     "evalue": "name 'data' is not defined",
     "output_type": "error",
     "traceback": [
      "\u001b[0;31m---------------------------------------------------------------------------\u001b[0m",
      "\u001b[0;31mNameError\u001b[0m                                 Traceback (most recent call last)",
      "\u001b[0;32m<ipython-input-6-9669c89f07ba>\u001b[0m in \u001b[0;36m<module>\u001b[0;34m\u001b[0m\n\u001b[1;32m      1\u001b[0m \u001b[0;31m# `info()` is a mthod of data\u001b[0m\u001b[0;34m\u001b[0m\u001b[0;34m\u001b[0m\u001b[0;34m\u001b[0m\u001b[0m\n\u001b[0;32m----> 2\u001b[0;31m \u001b[0mdata\u001b[0m\u001b[0;34m.\u001b[0m\u001b[0minfo\u001b[0m\u001b[0;34m(\u001b[0m\u001b[0;34m)\u001b[0m\u001b[0;34m\u001b[0m\u001b[0;34m\u001b[0m\u001b[0m\n\u001b[0m",
      "\u001b[0;31mNameError\u001b[0m: name 'data' is not defined"
     ]
    }
   ],
   "source": [
    "# `info()` is a method of data\n",
    "data.info()"
   ]
  },
  {
   "cell_type": "markdown",
   "metadata": {},
   "source": [
    "*   This is a `DataFrame`\n",
    "*   Two rows named `'Australia'` and `'New Zealand'`\n",
    "*   Twelve columns, each of which has two actual 64-bit floating point values.\n",
    "*   Uses 208 bytes of memory."
   ]
  },
  {
   "cell_type": "markdown",
   "metadata": {},
   "source": [
    "## Attributes\n",
    "- The `DataFrame.columns` attribute stores information about the dataframe's columns.\n",
    "- Note that this is a varaible, *not* a method.\n",
    "  - It doesn't have `()`\n",
    "*   Called a *member variable*, just a *member*, or an *attribute*."
   ]
  },
  {
   "cell_type": "code",
   "execution_count": null,
   "metadata": {},
   "outputs": [],
   "source": [
    "print(data.columns)"
   ]
  },
  {
   "cell_type": "markdown",
   "metadata": {},
   "source": [
    "- Use `DataFrame.T` to transpose a dataframe.\n",
    "\n",
    "*   Sometimes want to treat columns as rows and vice versa.\n",
    "*   Transpose doesn't copy the data, just changes the program's view of it."
   ]
  },
  {
   "cell_type": "code",
   "execution_count": 7,
   "metadata": {},
   "outputs": [
    {
     "ename": "NameError",
     "evalue": "name 'data' is not defined",
     "output_type": "error",
     "traceback": [
      "\u001b[0;31m---------------------------------------------------------------------------\u001b[0m",
      "\u001b[0;31mNameError\u001b[0m                                 Traceback (most recent call last)",
      "\u001b[0;32m<ipython-input-7-fb8207a94319>\u001b[0m in \u001b[0;36m<module>\u001b[0;34m\u001b[0m\n\u001b[0;32m----> 1\u001b[0;31m \u001b[0mprint\u001b[0m\u001b[0;34m(\u001b[0m\u001b[0mdata\u001b[0m\u001b[0;34m.\u001b[0m\u001b[0mT\u001b[0m\u001b[0;34m)\u001b[0m\u001b[0;34m\u001b[0m\u001b[0;34m\u001b[0m\u001b[0m\n\u001b[0m",
      "\u001b[0;31mNameError\u001b[0m: name 'data' is not defined"
     ]
    }
   ],
   "source": [
    "print(data.T)"
   ]
  },
  {
   "cell_type": "markdown",
   "metadata": {},
   "source": [
    "## Summary Statistics\n",
    "- Use `DataFrame.describe` to get summary statistics about data.\n",
    "\n",
    "- DataFrame.describe() gets the summary statistics of only the columns that have numerical data. \n",
    "  All other columns are ignored."
   ]
  },
  {
   "cell_type": "code",
   "execution_count": null,
   "metadata": {},
   "outputs": [],
   "source": [
    "# 1. Print the summary statistics for our dataframe\n",
    "print(___)"
   ]
  },
  {
   "cell_type": "markdown",
   "metadata": {},
   "source": [
    "# Exercise\n",
    "1. `read_csv()` can download data directly from a webpage.\n",
    "   Download a dataset called the Titanic Data Set by passing\n",
    "   the following URL to `read_csv()` instead of a file path.\n",
    "   Put the new dataframe in a variable called `titanic`.\n",
    "2. Use `titanic.head()` to have a look at the new dataframe.\n",
    "\n",
    "**Data URL:**\n",
    "<https://github.com/pandas-dev/pandas/raw/master/doc/data/titanic.csv>"
   ]
  },
  {
   "cell_type": "markdown",
   "metadata": {},
   "source": [
    "# Objectives\n",
    "- Import the Pandas library.\n",
    "- Use Pandas to load a CSV data set.\n",
    "- Get summary information from a Pandas DataFrame.\n",
    "- Download online data using Pandas."
   ]
  }
 ],
 "metadata": {
  "kernelspec": {
   "display_name": "Python 3",
   "language": "python",
   "name": "python3"
  },
  "language_info": {
   "codemirror_mode": {
    "name": "ipython",
    "version": 3
   },
   "file_extension": ".py",
   "mimetype": "text/x-python",
   "name": "python",
   "nbconvert_exporter": "python",
   "pygments_lexer": "ipython3",
   "version": "3.7.6"
  }
 },
 "nbformat": 4,
 "nbformat_minor": 4
}
